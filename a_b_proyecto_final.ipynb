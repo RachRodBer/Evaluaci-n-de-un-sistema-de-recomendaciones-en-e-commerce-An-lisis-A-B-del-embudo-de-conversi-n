{
 "cells": [
  {
   "cell_type": "markdown",
   "id": "cca31c6a-7cdc-415e-a850-9e4ffccfb687",
   "metadata": {},
   "source": [
    "<div align=\"center\">\r\n",
    "\r\n",
    "# Evaluación A/B el recommender_system_test: Impacto en la conversión de usuarios\r\n",
    "\r\n",
    "</div>"
   ]
  },
  {
   "cell_type": "markdown",
   "id": "566b9fa7-a275-4956-afbb-b77f1ff71f7b",
   "metadata": {},
   "source": [
    "**Introducción**\n",
    "\n",
    "En el competitivo mundo del comercio electrónico, optimizar la conversión de usuarios en clientes será fundamental para el éxito de una tienda en línea. Para evaluar la efectividad de un nuevo sistema de recomendaciones de productos, se realizará un experimento A/B con un subconjunto de usuarios europeos. El objetivo será medir el impacto del nuevo sistema en la tasa de conversión en diferentes etapas del embudo de ventas: de la página del producto al carrito y de este a la compra final.\n",
    "\n",
    "**Objetivo**\n",
    "\n",
    "El objetivo principal de este estudio será determinar si el nuevo sistema de recomendaciones mejora la conversión de usuarios en cada etapa del embudo de ventas en al menos un 10%, comparando los resultados entre el grupo de control (A) y el grupo de prueba (B).\n",
    "\n",
    "\n",
    "**Etapas de Desarrollo**\n",
    "\n",
    "1. Análisis Exploratorio de Datos (EDA):\n",
    "\n",
    "Se evaluará la conversión en cada etapa del embudo (página del producto → carrito → compra).\n",
    "Se revisarán los tipos de datos, valores ausentes y duplicados.\n",
    "Se analizará la distribución de eventos y se verificará que los usuarios estén correctamente asignados a un solo grupo.\n",
    "\n",
    "\n",
    "2. Evaluación de la correcta ejecución del experimento:\n",
    "\n",
    "Se compararán las distribuciones demográficas entre grupos.\n",
    "Se verificará la duración del experimento (7 de diciembre de 2020 al 1 de enero de 2021).\n",
    "Se analizará la aleatorización y la presencia equitativa de usuarios en ambos grupos.\n",
    "\n",
    "\n",
    "3. Prueba Estadística:\n",
    "\n",
    "Se utilizará la prueba z para comparar tasas de conversión entre los grupos A y B.\n",
    "Se calculará la significancia estadística y los valores p para determinar diferencias significativas.\n",
    "\n",
    "\n",
    "**Conclusiones y recomendaciones:**\n",
    "\n",
    "Tras el análisis estadístico, se determinará si el nuevo sistema de recomendaciones mejora significativamente la conversión en cada etapa del embudo. En caso de que se alcance o supere el objetivo del 10%, se considerará la implementación del nuevo sistema a gran escala. Si los resultados no son concluyentes o no se observa una mejora significativa, se revisará la estrategia antes de una implementación completa y se emitiran recomendaciones en cualquiera de los casos que pueda resultar del análisis.\n",
    "\n"
   ]
  },
  {
   "cell_type": "code",
   "execution_count": 4,
   "id": "b839026b-c8b7-47bf-b0cc-ac8a319151c9",
   "metadata": {},
   "outputs": [],
   "source": [
    "# Importamos las librerías que usaremos \n",
    "import pandas as pd\n",
    "import numpy as np\n",
    "import matplotlib.pyplot as plt \n",
    "import datetime as dt\n",
    "from scipy.stats import mannwhitneyu\n",
    "import seaborn as sns\n",
    "from statsmodels.stats.proportion import proportions_ztest"
   ]
  },
  {
   "cell_type": "code",
   "execution_count": 5,
   "id": "c067229d-4611-4936-aba0-676141df275f",
   "metadata": {},
   "outputs": [],
   "source": [
    "# Cargamos los data sets que utilizaremos \n",
    "marketing_events = pd.read_csv('ab_project_marketing_events_us.csv')\n",
    "new_users = pd.read_csv('final_ab_new_users_upd_us.csv')\n",
    "participants = pd.read_csv('final_ab_participants_upd_us.csv')\n",
    "events = pd.read_csv('final_ab_events_upd_us.csv')"
   ]
  },
  {
   "cell_type": "markdown",
   "id": "8b3063b1-52d6-4b67-abcd-0398121677ed",
   "metadata": {},
   "source": [
    "Analizaremos la información contenida en cada conjunto de datos, comenzando por examinar el dataset de marketing_events."
   ]
  },
  {
   "cell_type": "code",
   "execution_count": 7,
   "id": "9c123f99-8c5c-4f56-a486-11facc2b1198",
   "metadata": {},
   "outputs": [
    {
     "data": {
      "text/html": [
       "<div>\n",
       "<style scoped>\n",
       "    .dataframe tbody tr th:only-of-type {\n",
       "        vertical-align: middle;\n",
       "    }\n",
       "\n",
       "    .dataframe tbody tr th {\n",
       "        vertical-align: top;\n",
       "    }\n",
       "\n",
       "    .dataframe thead th {\n",
       "        text-align: right;\n",
       "    }\n",
       "</style>\n",
       "<table border=\"1\" class=\"dataframe\">\n",
       "  <thead>\n",
       "    <tr style=\"text-align: right;\">\n",
       "      <th></th>\n",
       "      <th>name</th>\n",
       "      <th>regions</th>\n",
       "      <th>start_dt</th>\n",
       "      <th>finish_dt</th>\n",
       "    </tr>\n",
       "  </thead>\n",
       "  <tbody>\n",
       "    <tr>\n",
       "      <th>0</th>\n",
       "      <td>Christmas&amp;New Year Promo</td>\n",
       "      <td>EU, N.America</td>\n",
       "      <td>2020-12-25</td>\n",
       "      <td>2021-01-03</td>\n",
       "    </tr>\n",
       "    <tr>\n",
       "      <th>1</th>\n",
       "      <td>St. Valentine's Day Giveaway</td>\n",
       "      <td>EU, CIS, APAC, N.America</td>\n",
       "      <td>2020-02-14</td>\n",
       "      <td>2020-02-16</td>\n",
       "    </tr>\n",
       "    <tr>\n",
       "      <th>2</th>\n",
       "      <td>St. Patric's Day Promo</td>\n",
       "      <td>EU, N.America</td>\n",
       "      <td>2020-03-17</td>\n",
       "      <td>2020-03-19</td>\n",
       "    </tr>\n",
       "    <tr>\n",
       "      <th>3</th>\n",
       "      <td>Easter Promo</td>\n",
       "      <td>EU, CIS, APAC, N.America</td>\n",
       "      <td>2020-04-12</td>\n",
       "      <td>2020-04-19</td>\n",
       "    </tr>\n",
       "    <tr>\n",
       "      <th>4</th>\n",
       "      <td>4th of July Promo</td>\n",
       "      <td>N.America</td>\n",
       "      <td>2020-07-04</td>\n",
       "      <td>2020-07-11</td>\n",
       "    </tr>\n",
       "    <tr>\n",
       "      <th>5</th>\n",
       "      <td>Black Friday Ads Campaign</td>\n",
       "      <td>EU, CIS, APAC, N.America</td>\n",
       "      <td>2020-11-26</td>\n",
       "      <td>2020-12-01</td>\n",
       "    </tr>\n",
       "    <tr>\n",
       "      <th>6</th>\n",
       "      <td>Chinese New Year Promo</td>\n",
       "      <td>APAC</td>\n",
       "      <td>2020-01-25</td>\n",
       "      <td>2020-02-07</td>\n",
       "    </tr>\n",
       "    <tr>\n",
       "      <th>7</th>\n",
       "      <td>Labor day (May 1st) Ads Campaign</td>\n",
       "      <td>EU, CIS, APAC</td>\n",
       "      <td>2020-05-01</td>\n",
       "      <td>2020-05-03</td>\n",
       "    </tr>\n",
       "    <tr>\n",
       "      <th>8</th>\n",
       "      <td>International Women's Day Promo</td>\n",
       "      <td>EU, CIS, APAC</td>\n",
       "      <td>2020-03-08</td>\n",
       "      <td>2020-03-10</td>\n",
       "    </tr>\n",
       "    <tr>\n",
       "      <th>9</th>\n",
       "      <td>Victory Day CIS (May 9th) Event</td>\n",
       "      <td>CIS</td>\n",
       "      <td>2020-05-09</td>\n",
       "      <td>2020-05-11</td>\n",
       "    </tr>\n",
       "    <tr>\n",
       "      <th>10</th>\n",
       "      <td>CIS New Year Gift Lottery</td>\n",
       "      <td>CIS</td>\n",
       "      <td>2020-12-30</td>\n",
       "      <td>2021-01-07</td>\n",
       "    </tr>\n",
       "    <tr>\n",
       "      <th>11</th>\n",
       "      <td>Dragon Boat Festival Giveaway</td>\n",
       "      <td>APAC</td>\n",
       "      <td>2020-06-25</td>\n",
       "      <td>2020-07-01</td>\n",
       "    </tr>\n",
       "    <tr>\n",
       "      <th>12</th>\n",
       "      <td>Single's Day Gift Promo</td>\n",
       "      <td>APAC</td>\n",
       "      <td>2020-11-11</td>\n",
       "      <td>2020-11-12</td>\n",
       "    </tr>\n",
       "    <tr>\n",
       "      <th>13</th>\n",
       "      <td>Chinese Moon Festival</td>\n",
       "      <td>APAC</td>\n",
       "      <td>2020-10-01</td>\n",
       "      <td>2020-10-07</td>\n",
       "    </tr>\n",
       "  </tbody>\n",
       "</table>\n",
       "</div>"
      ],
      "text/plain": [
       "                                name                   regions    start_dt  \\\n",
       "0           Christmas&New Year Promo             EU, N.America  2020-12-25   \n",
       "1       St. Valentine's Day Giveaway  EU, CIS, APAC, N.America  2020-02-14   \n",
       "2             St. Patric's Day Promo             EU, N.America  2020-03-17   \n",
       "3                       Easter Promo  EU, CIS, APAC, N.America  2020-04-12   \n",
       "4                  4th of July Promo                 N.America  2020-07-04   \n",
       "5          Black Friday Ads Campaign  EU, CIS, APAC, N.America  2020-11-26   \n",
       "6             Chinese New Year Promo                      APAC  2020-01-25   \n",
       "7   Labor day (May 1st) Ads Campaign             EU, CIS, APAC  2020-05-01   \n",
       "8    International Women's Day Promo             EU, CIS, APAC  2020-03-08   \n",
       "9    Victory Day CIS (May 9th) Event                       CIS  2020-05-09   \n",
       "10         CIS New Year Gift Lottery                       CIS  2020-12-30   \n",
       "11     Dragon Boat Festival Giveaway                      APAC  2020-06-25   \n",
       "12           Single's Day Gift Promo                      APAC  2020-11-11   \n",
       "13             Chinese Moon Festival                      APAC  2020-10-01   \n",
       "\n",
       "     finish_dt  \n",
       "0   2021-01-03  \n",
       "1   2020-02-16  \n",
       "2   2020-03-19  \n",
       "3   2020-04-19  \n",
       "4   2020-07-11  \n",
       "5   2020-12-01  \n",
       "6   2020-02-07  \n",
       "7   2020-05-03  \n",
       "8   2020-03-10  \n",
       "9   2020-05-11  \n",
       "10  2021-01-07  \n",
       "11  2020-07-01  \n",
       "12  2020-11-12  \n",
       "13  2020-10-07  "
      ]
     },
     "execution_count": 7,
     "metadata": {},
     "output_type": "execute_result"
    }
   ],
   "source": [
    "marketing_events"
   ]
  },
  {
   "cell_type": "code",
   "execution_count": 8,
   "id": "c146aba3-5a96-4277-94b5-0f009ab08c8f",
   "metadata": {},
   "outputs": [
    {
     "name": "stdout",
     "output_type": "stream",
     "text": [
      "<class 'pandas.core.frame.DataFrame'>\n",
      "RangeIndex: 14 entries, 0 to 13\n",
      "Data columns (total 4 columns):\n",
      " #   Column     Non-Null Count  Dtype \n",
      "---  ------     --------------  ----- \n",
      " 0   name       14 non-null     object\n",
      " 1   regions    14 non-null     object\n",
      " 2   start_dt   14 non-null     object\n",
      " 3   finish_dt  14 non-null     object\n",
      "dtypes: object(4)\n",
      "memory usage: 580.0+ bytes\n"
     ]
    }
   ],
   "source": [
    "# Analizamos la informacion del DF marketing_events \n",
    "marketing_events.info()"
   ]
  },
  {
   "cell_type": "code",
   "execution_count": 9,
   "id": "41a3b5c1-4dc0-48b1-be70-be1f3822ea13",
   "metadata": {},
   "outputs": [
    {
     "data": {
      "text/html": [
       "<div>\n",
       "<style scoped>\n",
       "    .dataframe tbody tr th:only-of-type {\n",
       "        vertical-align: middle;\n",
       "    }\n",
       "\n",
       "    .dataframe tbody tr th {\n",
       "        vertical-align: top;\n",
       "    }\n",
       "\n",
       "    .dataframe thead th {\n",
       "        text-align: right;\n",
       "    }\n",
       "</style>\n",
       "<table border=\"1\" class=\"dataframe\">\n",
       "  <thead>\n",
       "    <tr style=\"text-align: right;\">\n",
       "      <th></th>\n",
       "      <th>name</th>\n",
       "      <th>regions</th>\n",
       "      <th>start_dt</th>\n",
       "      <th>finish_dt</th>\n",
       "    </tr>\n",
       "  </thead>\n",
       "  <tbody>\n",
       "    <tr>\n",
       "      <th>count</th>\n",
       "      <td>14</td>\n",
       "      <td>14</td>\n",
       "      <td>14</td>\n",
       "      <td>14</td>\n",
       "    </tr>\n",
       "    <tr>\n",
       "      <th>unique</th>\n",
       "      <td>14</td>\n",
       "      <td>6</td>\n",
       "      <td>14</td>\n",
       "      <td>14</td>\n",
       "    </tr>\n",
       "    <tr>\n",
       "      <th>top</th>\n",
       "      <td>Christmas&amp;New Year Promo</td>\n",
       "      <td>APAC</td>\n",
       "      <td>2020-12-25</td>\n",
       "      <td>2021-01-03</td>\n",
       "    </tr>\n",
       "    <tr>\n",
       "      <th>freq</th>\n",
       "      <td>1</td>\n",
       "      <td>4</td>\n",
       "      <td>1</td>\n",
       "      <td>1</td>\n",
       "    </tr>\n",
       "  </tbody>\n",
       "</table>\n",
       "</div>"
      ],
      "text/plain": [
       "                            name regions    start_dt   finish_dt\n",
       "count                         14      14          14          14\n",
       "unique                        14       6          14          14\n",
       "top     Christmas&New Year Promo    APAC  2020-12-25  2021-01-03\n",
       "freq                           1       4           1           1"
      ]
     },
     "execution_count": 9,
     "metadata": {},
     "output_type": "execute_result"
    }
   ],
   "source": [
    "# Analizamos los datos estadísticos del DF marketing_events \n",
    "marketing_events.describe()"
   ]
  },
  {
   "cell_type": "code",
   "execution_count": 10,
   "id": "0647c379-501f-47ed-9175-bf46e5c5f40f",
   "metadata": {},
   "outputs": [
    {
     "data": {
      "text/plain": [
       "name         0\n",
       "regions      0\n",
       "start_dt     0\n",
       "finish_dt    0\n",
       "dtype: int64"
      ]
     },
     "execution_count": 10,
     "metadata": {},
     "output_type": "execute_result"
    }
   ],
   "source": [
    "# Verificamos que no tenga valores nulos el DF marketing_events \n",
    "marketing_events.isna().sum()"
   ]
  },
  {
   "cell_type": "code",
   "execution_count": 11,
   "id": "dac91db8-2783-4b37-8cd7-3e3f97f0690a",
   "metadata": {},
   "outputs": [
    {
     "data": {
      "text/plain": [
       "0"
      ]
     },
     "execution_count": 11,
     "metadata": {},
     "output_type": "execute_result"
    }
   ],
   "source": [
    "# Verificamos que no tenga valores duplicados\n",
    "marketing_events.duplicated().sum()"
   ]
  },
  {
   "cell_type": "code",
   "execution_count": 12,
   "id": "45bfbf5c-cf7e-408d-af24-f3361e3fefea",
   "metadata": {},
   "outputs": [
    {
     "name": "stdout",
     "output_type": "stream",
     "text": [
      "<class 'pandas.core.frame.DataFrame'>\n",
      "RangeIndex: 14 entries, 0 to 13\n",
      "Data columns (total 4 columns):\n",
      " #   Column     Non-Null Count  Dtype         \n",
      "---  ------     --------------  -----         \n",
      " 0   name       14 non-null     object        \n",
      " 1   regions    14 non-null     object        \n",
      " 2   start_dt   14 non-null     datetime64[ns]\n",
      " 3   finish_dt  14 non-null     datetime64[ns]\n",
      "dtypes: datetime64[ns](2), object(2)\n",
      "memory usage: 580.0+ bytes\n"
     ]
    }
   ],
   "source": [
    "# Convertimos las columnas 'start_dt' y 'finish_dt' a formato datetime\n",
    "marketing_events['start_dt'] = pd.to_datetime(marketing_events['start_dt'], format='%Y-%m-%d')\n",
    "marketing_events['finish_dt'] = pd.to_datetime(marketing_events['finish_dt'], format='%Y-%m-%d')\n",
    "\n",
    "# Corroboramos que se haya realizado el cambio\n",
    "marketing_events.info()\n"
   ]
  },
  {
   "cell_type": "markdown",
   "id": "4018425f-27ca-4746-88d0-3ecf7e3cff1d",
   "metadata": {},
   "source": [
    "\n",
    "\n",
    "Procedemos a analizar el DataFrame new_users.\n"
   ]
  },
  {
   "cell_type": "code",
   "execution_count": 14,
   "id": "8f76753e-ad20-42a6-914d-1e4647d2aa1c",
   "metadata": {},
   "outputs": [
    {
     "data": {
      "text/html": [
       "<div>\n",
       "<style scoped>\n",
       "    .dataframe tbody tr th:only-of-type {\n",
       "        vertical-align: middle;\n",
       "    }\n",
       "\n",
       "    .dataframe tbody tr th {\n",
       "        vertical-align: top;\n",
       "    }\n",
       "\n",
       "    .dataframe thead th {\n",
       "        text-align: right;\n",
       "    }\n",
       "</style>\n",
       "<table border=\"1\" class=\"dataframe\">\n",
       "  <thead>\n",
       "    <tr style=\"text-align: right;\">\n",
       "      <th></th>\n",
       "      <th>user_id</th>\n",
       "      <th>first_date</th>\n",
       "      <th>region</th>\n",
       "      <th>device</th>\n",
       "    </tr>\n",
       "  </thead>\n",
       "  <tbody>\n",
       "    <tr>\n",
       "      <th>0</th>\n",
       "      <td>D72A72121175D8BE</td>\n",
       "      <td>2020-12-07</td>\n",
       "      <td>EU</td>\n",
       "      <td>PC</td>\n",
       "    </tr>\n",
       "    <tr>\n",
       "      <th>1</th>\n",
       "      <td>F1C668619DFE6E65</td>\n",
       "      <td>2020-12-07</td>\n",
       "      <td>N.America</td>\n",
       "      <td>Android</td>\n",
       "    </tr>\n",
       "    <tr>\n",
       "      <th>2</th>\n",
       "      <td>2E1BF1D4C37EA01F</td>\n",
       "      <td>2020-12-07</td>\n",
       "      <td>EU</td>\n",
       "      <td>PC</td>\n",
       "    </tr>\n",
       "    <tr>\n",
       "      <th>3</th>\n",
       "      <td>50734A22C0C63768</td>\n",
       "      <td>2020-12-07</td>\n",
       "      <td>EU</td>\n",
       "      <td>iPhone</td>\n",
       "    </tr>\n",
       "    <tr>\n",
       "      <th>4</th>\n",
       "      <td>E1BDDCE0DAFA2679</td>\n",
       "      <td>2020-12-07</td>\n",
       "      <td>N.America</td>\n",
       "      <td>iPhone</td>\n",
       "    </tr>\n",
       "  </tbody>\n",
       "</table>\n",
       "</div>"
      ],
      "text/plain": [
       "            user_id  first_date     region   device\n",
       "0  D72A72121175D8BE  2020-12-07         EU       PC\n",
       "1  F1C668619DFE6E65  2020-12-07  N.America  Android\n",
       "2  2E1BF1D4C37EA01F  2020-12-07         EU       PC\n",
       "3  50734A22C0C63768  2020-12-07         EU   iPhone\n",
       "4  E1BDDCE0DAFA2679  2020-12-07  N.America   iPhone"
      ]
     },
     "execution_count": 14,
     "metadata": {},
     "output_type": "execute_result"
    }
   ],
   "source": [
    "# Imprimimos las primeras filas para analizar las columnas del DF new_users\n",
    "new_users.head()"
   ]
  },
  {
   "cell_type": "code",
   "execution_count": 15,
   "id": "a3a4b3cc-65c2-4c49-945f-87c9d05900ce",
   "metadata": {},
   "outputs": [
    {
     "name": "stdout",
     "output_type": "stream",
     "text": [
      "<class 'pandas.core.frame.DataFrame'>\n",
      "RangeIndex: 58703 entries, 0 to 58702\n",
      "Data columns (total 4 columns):\n",
      " #   Column      Non-Null Count  Dtype \n",
      "---  ------      --------------  ----- \n",
      " 0   user_id     58703 non-null  object\n",
      " 1   first_date  58703 non-null  object\n",
      " 2   region      58703 non-null  object\n",
      " 3   device      58703 non-null  object\n",
      "dtypes: object(4)\n",
      "memory usage: 1.8+ MB\n"
     ]
    }
   ],
   "source": [
    "# Analizamos la informacion del DF new_users \n",
    "new_users.info()"
   ]
  },
  {
   "cell_type": "code",
   "execution_count": 16,
   "id": "f9f12959-18eb-480f-8c89-23458f16a7a4",
   "metadata": {},
   "outputs": [
    {
     "data": {
      "text/html": [
       "<div>\n",
       "<style scoped>\n",
       "    .dataframe tbody tr th:only-of-type {\n",
       "        vertical-align: middle;\n",
       "    }\n",
       "\n",
       "    .dataframe tbody tr th {\n",
       "        vertical-align: top;\n",
       "    }\n",
       "\n",
       "    .dataframe thead th {\n",
       "        text-align: right;\n",
       "    }\n",
       "</style>\n",
       "<table border=\"1\" class=\"dataframe\">\n",
       "  <thead>\n",
       "    <tr style=\"text-align: right;\">\n",
       "      <th></th>\n",
       "      <th>user_id</th>\n",
       "      <th>first_date</th>\n",
       "      <th>region</th>\n",
       "      <th>device</th>\n",
       "    </tr>\n",
       "  </thead>\n",
       "  <tbody>\n",
       "    <tr>\n",
       "      <th>count</th>\n",
       "      <td>58703</td>\n",
       "      <td>58703</td>\n",
       "      <td>58703</td>\n",
       "      <td>58703</td>\n",
       "    </tr>\n",
       "    <tr>\n",
       "      <th>unique</th>\n",
       "      <td>58703</td>\n",
       "      <td>17</td>\n",
       "      <td>4</td>\n",
       "      <td>4</td>\n",
       "    </tr>\n",
       "    <tr>\n",
       "      <th>top</th>\n",
       "      <td>D72A72121175D8BE</td>\n",
       "      <td>2020-12-21</td>\n",
       "      <td>EU</td>\n",
       "      <td>Android</td>\n",
       "    </tr>\n",
       "    <tr>\n",
       "      <th>freq</th>\n",
       "      <td>1</td>\n",
       "      <td>6077</td>\n",
       "      <td>43396</td>\n",
       "      <td>26159</td>\n",
       "    </tr>\n",
       "  </tbody>\n",
       "</table>\n",
       "</div>"
      ],
      "text/plain": [
       "                 user_id  first_date region   device\n",
       "count              58703       58703  58703    58703\n",
       "unique             58703          17      4        4\n",
       "top     D72A72121175D8BE  2020-12-21     EU  Android\n",
       "freq                   1        6077  43396    26159"
      ]
     },
     "execution_count": 16,
     "metadata": {},
     "output_type": "execute_result"
    }
   ],
   "source": [
    "# Observamos los datos estadísticos \n",
    "new_users.describe()"
   ]
  },
  {
   "cell_type": "code",
   "execution_count": 17,
   "id": "c976a43d-c913-4ba1-ae0b-f45113a0f9c0",
   "metadata": {},
   "outputs": [
    {
     "data": {
      "text/plain": [
       "user_id       0\n",
       "first_date    0\n",
       "region        0\n",
       "device        0\n",
       "dtype: int64"
      ]
     },
     "execution_count": 17,
     "metadata": {},
     "output_type": "execute_result"
    }
   ],
   "source": [
    "# Verificamos que no tenga valores nulos\n",
    "new_users.isna().sum()"
   ]
  },
  {
   "cell_type": "code",
   "execution_count": 18,
   "id": "0f9f10fc-49d0-48b9-a86f-ffbb0b21e97e",
   "metadata": {},
   "outputs": [
    {
     "data": {
      "text/plain": [
       "0"
      ]
     },
     "execution_count": 18,
     "metadata": {},
     "output_type": "execute_result"
    }
   ],
   "source": [
    "# Verificamos que no tenga valores duplicados\n",
    "new_users.duplicated().sum()"
   ]
  },
  {
   "cell_type": "code",
   "execution_count": 19,
   "id": "92e28e79-9d88-4c06-bf7d-0d0fcede1a8c",
   "metadata": {},
   "outputs": [
    {
     "name": "stdout",
     "output_type": "stream",
     "text": [
      "<class 'pandas.core.frame.DataFrame'>\n",
      "RangeIndex: 58703 entries, 0 to 58702\n",
      "Data columns (total 4 columns):\n",
      " #   Column      Non-Null Count  Dtype         \n",
      "---  ------      --------------  -----         \n",
      " 0   user_id     58703 non-null  object        \n",
      " 1   first_date  58703 non-null  datetime64[ns]\n",
      " 2   region      58703 non-null  object        \n",
      " 3   device      58703 non-null  object        \n",
      "dtypes: datetime64[ns](1), object(3)\n",
      "memory usage: 1.8+ MB\n"
     ]
    }
   ],
   "source": [
    "# Convertimos la columna 'first_date' a formato datetime de DF new_users\n",
    "new_users['first_date'] = pd.to_datetime(new_users['first_date'],format= '%Y-%m-%d')\n",
    "new_users.info()"
   ]
  },
  {
   "cell_type": "markdown",
   "id": "2c2f9392-7083-4cf6-aae6-a7cb6b00ec60",
   "metadata": {},
   "source": [
    "Procedemos a analizar el DataFrame participants."
   ]
  },
  {
   "cell_type": "code",
   "execution_count": 21,
   "id": "1e0f8984-6960-4ca3-9898-112d38218aa3",
   "metadata": {},
   "outputs": [
    {
     "data": {
      "text/html": [
       "<div>\n",
       "<style scoped>\n",
       "    .dataframe tbody tr th:only-of-type {\n",
       "        vertical-align: middle;\n",
       "    }\n",
       "\n",
       "    .dataframe tbody tr th {\n",
       "        vertical-align: top;\n",
       "    }\n",
       "\n",
       "    .dataframe thead th {\n",
       "        text-align: right;\n",
       "    }\n",
       "</style>\n",
       "<table border=\"1\" class=\"dataframe\">\n",
       "  <thead>\n",
       "    <tr style=\"text-align: right;\">\n",
       "      <th></th>\n",
       "      <th>user_id</th>\n",
       "      <th>group</th>\n",
       "      <th>ab_test</th>\n",
       "    </tr>\n",
       "  </thead>\n",
       "  <tbody>\n",
       "    <tr>\n",
       "      <th>0</th>\n",
       "      <td>D1ABA3E2887B6A73</td>\n",
       "      <td>A</td>\n",
       "      <td>recommender_system_test</td>\n",
       "    </tr>\n",
       "    <tr>\n",
       "      <th>1</th>\n",
       "      <td>A7A3664BD6242119</td>\n",
       "      <td>A</td>\n",
       "      <td>recommender_system_test</td>\n",
       "    </tr>\n",
       "    <tr>\n",
       "      <th>2</th>\n",
       "      <td>DABC14FDDFADD29E</td>\n",
       "      <td>A</td>\n",
       "      <td>recommender_system_test</td>\n",
       "    </tr>\n",
       "    <tr>\n",
       "      <th>3</th>\n",
       "      <td>04988C5DF189632E</td>\n",
       "      <td>A</td>\n",
       "      <td>recommender_system_test</td>\n",
       "    </tr>\n",
       "    <tr>\n",
       "      <th>4</th>\n",
       "      <td>4FF2998A348C484F</td>\n",
       "      <td>A</td>\n",
       "      <td>recommender_system_test</td>\n",
       "    </tr>\n",
       "  </tbody>\n",
       "</table>\n",
       "</div>"
      ],
      "text/plain": [
       "            user_id group                  ab_test\n",
       "0  D1ABA3E2887B6A73     A  recommender_system_test\n",
       "1  A7A3664BD6242119     A  recommender_system_test\n",
       "2  DABC14FDDFADD29E     A  recommender_system_test\n",
       "3  04988C5DF189632E     A  recommender_system_test\n",
       "4  4FF2998A348C484F     A  recommender_system_test"
      ]
     },
     "execution_count": 21,
     "metadata": {},
     "output_type": "execute_result"
    }
   ],
   "source": [
    "# Mostramos las primeras filas del DF participants para analizar sus columnas.\n",
    "participants.head()"
   ]
  },
  {
   "cell_type": "code",
   "execution_count": 22,
   "id": "e32c40d9-3af1-4d93-a392-dcc13f10450d",
   "metadata": {},
   "outputs": [
    {
     "name": "stdout",
     "output_type": "stream",
     "text": [
      "<class 'pandas.core.frame.DataFrame'>\n",
      "RangeIndex: 14525 entries, 0 to 14524\n",
      "Data columns (total 3 columns):\n",
      " #   Column   Non-Null Count  Dtype \n",
      "---  ------   --------------  ----- \n",
      " 0   user_id  14525 non-null  object\n",
      " 1   group    14525 non-null  object\n",
      " 2   ab_test  14525 non-null  object\n",
      "dtypes: object(3)\n",
      "memory usage: 340.6+ KB\n"
     ]
    }
   ],
   "source": [
    "# Analizamos la informacion del DF participants \n",
    "participants.info()"
   ]
  },
  {
   "cell_type": "code",
   "execution_count": 23,
   "id": "b1088217-89bd-4f9c-844c-be6d84f9020d",
   "metadata": {},
   "outputs": [
    {
     "data": {
      "text/html": [
       "<div>\n",
       "<style scoped>\n",
       "    .dataframe tbody tr th:only-of-type {\n",
       "        vertical-align: middle;\n",
       "    }\n",
       "\n",
       "    .dataframe tbody tr th {\n",
       "        vertical-align: top;\n",
       "    }\n",
       "\n",
       "    .dataframe thead th {\n",
       "        text-align: right;\n",
       "    }\n",
       "</style>\n",
       "<table border=\"1\" class=\"dataframe\">\n",
       "  <thead>\n",
       "    <tr style=\"text-align: right;\">\n",
       "      <th></th>\n",
       "      <th>user_id</th>\n",
       "      <th>group</th>\n",
       "      <th>ab_test</th>\n",
       "    </tr>\n",
       "  </thead>\n",
       "  <tbody>\n",
       "    <tr>\n",
       "      <th>count</th>\n",
       "      <td>14525</td>\n",
       "      <td>14525</td>\n",
       "      <td>14525</td>\n",
       "    </tr>\n",
       "    <tr>\n",
       "      <th>unique</th>\n",
       "      <td>13638</td>\n",
       "      <td>2</td>\n",
       "      <td>2</td>\n",
       "    </tr>\n",
       "    <tr>\n",
       "      <th>top</th>\n",
       "      <td>307C06C0E6F09B93</td>\n",
       "      <td>A</td>\n",
       "      <td>interface_eu_test</td>\n",
       "    </tr>\n",
       "    <tr>\n",
       "      <th>freq</th>\n",
       "      <td>2</td>\n",
       "      <td>8214</td>\n",
       "      <td>10850</td>\n",
       "    </tr>\n",
       "  </tbody>\n",
       "</table>\n",
       "</div>"
      ],
      "text/plain": [
       "                 user_id  group            ab_test\n",
       "count              14525  14525              14525\n",
       "unique             13638      2                  2\n",
       "top     307C06C0E6F09B93      A  interface_eu_test\n",
       "freq                   2   8214              10850"
      ]
     },
     "execution_count": 23,
     "metadata": {},
     "output_type": "execute_result"
    }
   ],
   "source": [
    "# Analizamos los datos estadísticos\n",
    "participants.describe()"
   ]
  },
  {
   "cell_type": "code",
   "execution_count": 24,
   "id": "664c935e-773c-4d50-ab5f-e7c1b2deb163",
   "metadata": {},
   "outputs": [
    {
     "data": {
      "text/plain": [
       "user_id    0\n",
       "group      0\n",
       "ab_test    0\n",
       "dtype: int64"
      ]
     },
     "execution_count": 24,
     "metadata": {},
     "output_type": "execute_result"
    }
   ],
   "source": [
    "# Verificamos que no tenga valores nulos\n",
    "participants.isna().sum()"
   ]
  },
  {
   "cell_type": "code",
   "execution_count": 25,
   "id": "4c8b0efe-3f36-4425-a236-d5e777ae1040",
   "metadata": {},
   "outputs": [
    {
     "data": {
      "text/plain": [
       "0"
      ]
     },
     "execution_count": 25,
     "metadata": {},
     "output_type": "execute_result"
    }
   ],
   "source": [
    "# Verificamos que no tenga valores duplicados\n",
    "participants.duplicated().sum()"
   ]
  },
  {
   "cell_type": "markdown",
   "id": "18ac7f1b-c83d-41f0-8570-1422b91c76ee",
   "metadata": {},
   "source": [
    "Continuamos con el análisis del DataFrame events."
   ]
  },
  {
   "cell_type": "code",
   "execution_count": 27,
   "id": "763ba338-bd30-46a7-935c-b4584e2141b6",
   "metadata": {},
   "outputs": [
    {
     "data": {
      "text/html": [
       "<div>\n",
       "<style scoped>\n",
       "    .dataframe tbody tr th:only-of-type {\n",
       "        vertical-align: middle;\n",
       "    }\n",
       "\n",
       "    .dataframe tbody tr th {\n",
       "        vertical-align: top;\n",
       "    }\n",
       "\n",
       "    .dataframe thead th {\n",
       "        text-align: right;\n",
       "    }\n",
       "</style>\n",
       "<table border=\"1\" class=\"dataframe\">\n",
       "  <thead>\n",
       "    <tr style=\"text-align: right;\">\n",
       "      <th></th>\n",
       "      <th>user_id</th>\n",
       "      <th>event_dt</th>\n",
       "      <th>event_name</th>\n",
       "      <th>details</th>\n",
       "    </tr>\n",
       "  </thead>\n",
       "  <tbody>\n",
       "    <tr>\n",
       "      <th>0</th>\n",
       "      <td>E1BDDCE0DAFA2679</td>\n",
       "      <td>2020-12-07 20:22:03</td>\n",
       "      <td>purchase</td>\n",
       "      <td>99.99</td>\n",
       "    </tr>\n",
       "    <tr>\n",
       "      <th>1</th>\n",
       "      <td>7B6452F081F49504</td>\n",
       "      <td>2020-12-07 09:22:53</td>\n",
       "      <td>purchase</td>\n",
       "      <td>9.99</td>\n",
       "    </tr>\n",
       "    <tr>\n",
       "      <th>2</th>\n",
       "      <td>9CD9F34546DF254C</td>\n",
       "      <td>2020-12-07 12:59:29</td>\n",
       "      <td>purchase</td>\n",
       "      <td>4.99</td>\n",
       "    </tr>\n",
       "    <tr>\n",
       "      <th>3</th>\n",
       "      <td>96F27A054B191457</td>\n",
       "      <td>2020-12-07 04:02:40</td>\n",
       "      <td>purchase</td>\n",
       "      <td>4.99</td>\n",
       "    </tr>\n",
       "    <tr>\n",
       "      <th>4</th>\n",
       "      <td>1FD7660FDF94CA1F</td>\n",
       "      <td>2020-12-07 10:15:09</td>\n",
       "      <td>purchase</td>\n",
       "      <td>4.99</td>\n",
       "    </tr>\n",
       "  </tbody>\n",
       "</table>\n",
       "</div>"
      ],
      "text/plain": [
       "            user_id             event_dt event_name  details\n",
       "0  E1BDDCE0DAFA2679  2020-12-07 20:22:03   purchase    99.99\n",
       "1  7B6452F081F49504  2020-12-07 09:22:53   purchase     9.99\n",
       "2  9CD9F34546DF254C  2020-12-07 12:59:29   purchase     4.99\n",
       "3  96F27A054B191457  2020-12-07 04:02:40   purchase     4.99\n",
       "4  1FD7660FDF94CA1F  2020-12-07 10:15:09   purchase     4.99"
      ]
     },
     "execution_count": 27,
     "metadata": {},
     "output_type": "execute_result"
    }
   ],
   "source": [
    "# Mostramos las primeras filas del DF events\n",
    "events.head()"
   ]
  },
  {
   "cell_type": "code",
   "execution_count": 28,
   "id": "c999a520-4628-4be0-980a-367c0094747c",
   "metadata": {},
   "outputs": [
    {
     "name": "stdout",
     "output_type": "stream",
     "text": [
      "<class 'pandas.core.frame.DataFrame'>\n",
      "RangeIndex: 423761 entries, 0 to 423760\n",
      "Data columns (total 4 columns):\n",
      " #   Column      Non-Null Count   Dtype  \n",
      "---  ------      --------------   -----  \n",
      " 0   user_id     423761 non-null  object \n",
      " 1   event_dt    423761 non-null  object \n",
      " 2   event_name  423761 non-null  object \n",
      " 3   details     60314 non-null   float64\n",
      "dtypes: float64(1), object(3)\n",
      "memory usage: 12.9+ MB\n"
     ]
    }
   ],
   "source": [
    "# Analizamos la informacion del DF events \n",
    "events.info()"
   ]
  },
  {
   "cell_type": "code",
   "execution_count": 29,
   "id": "711e7136-a4aa-46e2-9425-049a5e00e281",
   "metadata": {},
   "outputs": [
    {
     "data": {
      "text/html": [
       "<div>\n",
       "<style scoped>\n",
       "    .dataframe tbody tr th:only-of-type {\n",
       "        vertical-align: middle;\n",
       "    }\n",
       "\n",
       "    .dataframe tbody tr th {\n",
       "        vertical-align: top;\n",
       "    }\n",
       "\n",
       "    .dataframe thead th {\n",
       "        text-align: right;\n",
       "    }\n",
       "</style>\n",
       "<table border=\"1\" class=\"dataframe\">\n",
       "  <thead>\n",
       "    <tr style=\"text-align: right;\">\n",
       "      <th></th>\n",
       "      <th>details</th>\n",
       "    </tr>\n",
       "  </thead>\n",
       "  <tbody>\n",
       "    <tr>\n",
       "      <th>count</th>\n",
       "      <td>60314.000000</td>\n",
       "    </tr>\n",
       "    <tr>\n",
       "      <th>mean</th>\n",
       "      <td>23.881219</td>\n",
       "    </tr>\n",
       "    <tr>\n",
       "      <th>std</th>\n",
       "      <td>72.228884</td>\n",
       "    </tr>\n",
       "    <tr>\n",
       "      <th>min</th>\n",
       "      <td>4.990000</td>\n",
       "    </tr>\n",
       "    <tr>\n",
       "      <th>25%</th>\n",
       "      <td>4.990000</td>\n",
       "    </tr>\n",
       "    <tr>\n",
       "      <th>50%</th>\n",
       "      <td>4.990000</td>\n",
       "    </tr>\n",
       "    <tr>\n",
       "      <th>75%</th>\n",
       "      <td>9.990000</td>\n",
       "    </tr>\n",
       "    <tr>\n",
       "      <th>max</th>\n",
       "      <td>499.990000</td>\n",
       "    </tr>\n",
       "  </tbody>\n",
       "</table>\n",
       "</div>"
      ],
      "text/plain": [
       "            details\n",
       "count  60314.000000\n",
       "mean      23.881219\n",
       "std       72.228884\n",
       "min        4.990000\n",
       "25%        4.990000\n",
       "50%        4.990000\n",
       "75%        9.990000\n",
       "max      499.990000"
      ]
     },
     "execution_count": 29,
     "metadata": {},
     "output_type": "execute_result"
    }
   ],
   "source": [
    "# Analizamos los datos estadísticos\n",
    "events.describe()"
   ]
  },
  {
   "cell_type": "code",
   "execution_count": 30,
   "id": "895ec814-7b80-4950-be72-f63dd6fdb6ba",
   "metadata": {},
   "outputs": [
    {
     "data": {
      "text/plain": [
       "user_id            0\n",
       "event_dt           0\n",
       "event_name         0\n",
       "details       363447\n",
       "dtype: int64"
      ]
     },
     "execution_count": 30,
     "metadata": {},
     "output_type": "execute_result"
    }
   ],
   "source": [
    "# Verificamos que no tenga valores nulos\n",
    "events.isna().sum()"
   ]
  },
  {
   "cell_type": "code",
   "execution_count": 31,
   "id": "e31af614-966d-4d3c-aebb-6416ea130812",
   "metadata": {},
   "outputs": [
    {
     "data": {
      "text/plain": [
       "0"
      ]
     },
     "execution_count": 31,
     "metadata": {},
     "output_type": "execute_result"
    }
   ],
   "source": [
    "# Verificamos que no tenga valores duplicados\n",
    "events.duplicated().sum()"
   ]
  },
  {
   "cell_type": "code",
   "execution_count": 32,
   "id": "bbc1d70b-ece3-4b21-b082-9a0c868fe44e",
   "metadata": {},
   "outputs": [
    {
     "name": "stdout",
     "output_type": "stream",
     "text": [
      "<class 'pandas.core.frame.DataFrame'>\n",
      "RangeIndex: 423761 entries, 0 to 423760\n",
      "Data columns (total 4 columns):\n",
      " #   Column      Non-Null Count   Dtype         \n",
      "---  ------      --------------   -----         \n",
      " 0   user_id     423761 non-null  object        \n",
      " 1   event_dt    423761 non-null  datetime64[ns]\n",
      " 2   event_name  423761 non-null  object        \n",
      " 3   details     60314 non-null   float64       \n",
      "dtypes: datetime64[ns](1), float64(1), object(2)\n",
      "memory usage: 12.9+ MB\n"
     ]
    }
   ],
   "source": [
    "# Convertimos la columna 'event_dt' a formato datetime del DF events.\n",
    "events['event_dt'] = pd.to_datetime(events['event_dt']).dt.floor('D')\n",
    "events.info()"
   ]
  },
  {
   "cell_type": "markdown",
   "id": "4c85f839-bbd0-420c-ab8c-27f9f38ea209",
   "metadata": {},
   "source": [
    "<div style=\"background-color: lightblue; padding: 10px; border-radius: 5px;\">\n",
    "Al analizar los DataFrames, observamos que todas las columnas tienen nombres claros y están en minúsculas, lo que facilita su comprensión. Además, se corrigieron los formatos de las fechas y se verificó que no existieran datos nulos o duplicados. Estas acciones contribuirán a un desarrollo más sólido y preciso del análisis."
   ]
  },
  {
   "cell_type": "code",
   "execution_count": 34,
   "id": "5c35c50e-862f-47f1-be5f-b4d021af42ec",
   "metadata": {},
   "outputs": [
    {
     "data": {
      "text/html": [
       "<div>\n",
       "<style scoped>\n",
       "    .dataframe tbody tr th:only-of-type {\n",
       "        vertical-align: middle;\n",
       "    }\n",
       "\n",
       "    .dataframe tbody tr th {\n",
       "        vertical-align: top;\n",
       "    }\n",
       "\n",
       "    .dataframe thead th {\n",
       "        text-align: right;\n",
       "    }\n",
       "</style>\n",
       "<table border=\"1\" class=\"dataframe\">\n",
       "  <thead>\n",
       "    <tr style=\"text-align: right;\">\n",
       "      <th></th>\n",
       "      <th>user_id</th>\n",
       "      <th>group</th>\n",
       "    </tr>\n",
       "    <tr>\n",
       "      <th>ab_test</th>\n",
       "      <th></th>\n",
       "      <th></th>\n",
       "    </tr>\n",
       "  </thead>\n",
       "  <tbody>\n",
       "    <tr>\n",
       "      <th>interface_eu_test</th>\n",
       "      <td>10850</td>\n",
       "      <td>10850</td>\n",
       "    </tr>\n",
       "    <tr>\n",
       "      <th>recommender_system_test</th>\n",
       "      <td>3675</td>\n",
       "      <td>3675</td>\n",
       "    </tr>\n",
       "  </tbody>\n",
       "</table>\n",
       "</div>"
      ],
      "text/plain": [
       "                         user_id  group\n",
       "ab_test                                \n",
       "interface_eu_test          10850  10850\n",
       "recommender_system_test     3675   3675"
      ]
     },
     "execution_count": 34,
     "metadata": {},
     "output_type": "execute_result"
    }
   ],
   "source": [
    "# Distribución de usuarios por test o experimento, contando los usuarios por grupo de 'ab_test'\n",
    "participants.groupby('ab_test').count()"
   ]
  },
  {
   "cell_type": "code",
   "execution_count": 35,
   "id": "ce2ac951-7076-4135-ae86-f00a4b53fde3",
   "metadata": {},
   "outputs": [
    {
     "data": {
      "text/html": [
       "<div>\n",
       "<style scoped>\n",
       "    .dataframe tbody tr th:only-of-type {\n",
       "        vertical-align: middle;\n",
       "    }\n",
       "\n",
       "    .dataframe tbody tr th {\n",
       "        vertical-align: top;\n",
       "    }\n",
       "\n",
       "    .dataframe thead th {\n",
       "        text-align: right;\n",
       "    }\n",
       "</style>\n",
       "<table border=\"1\" class=\"dataframe\">\n",
       "  <thead>\n",
       "    <tr style=\"text-align: right;\">\n",
       "      <th></th>\n",
       "      <th></th>\n",
       "      <th>user_id</th>\n",
       "    </tr>\n",
       "    <tr>\n",
       "      <th>group</th>\n",
       "      <th>ab_test</th>\n",
       "      <th></th>\n",
       "    </tr>\n",
       "  </thead>\n",
       "  <tbody>\n",
       "    <tr>\n",
       "      <th rowspan=\"2\" valign=\"top\">A</th>\n",
       "      <th>interface_eu_test</th>\n",
       "      <td>5467</td>\n",
       "    </tr>\n",
       "    <tr>\n",
       "      <th>recommender_system_test</th>\n",
       "      <td>2747</td>\n",
       "    </tr>\n",
       "    <tr>\n",
       "      <th rowspan=\"2\" valign=\"top\">B</th>\n",
       "      <th>interface_eu_test</th>\n",
       "      <td>5383</td>\n",
       "    </tr>\n",
       "    <tr>\n",
       "      <th>recommender_system_test</th>\n",
       "      <td>928</td>\n",
       "    </tr>\n",
       "  </tbody>\n",
       "</table>\n",
       "</div>"
      ],
      "text/plain": [
       "                               user_id\n",
       "group ab_test                         \n",
       "A     interface_eu_test           5467\n",
       "      recommender_system_test     2747\n",
       "B     interface_eu_test           5383\n",
       "      recommender_system_test      928"
      ]
     },
     "execution_count": 35,
     "metadata": {},
     "output_type": "execute_result"
    }
   ],
   "source": [
    "# Distribución de usuarios por test o experimento y por grupo, \n",
    "# contando las ocurrencias por combinación de 'group' y 'ab_test'\n",
    "participants.groupby(['group', 'ab_test']).count()"
   ]
  },
  {
   "cell_type": "markdown",
   "id": "920f5bdb-3d3d-4bfe-ae50-41766f612ce7",
   "metadata": {},
   "source": [
    "#### ¿Hay alguna peculiaridad en los datos que hay que tener en cuenta antes de iniciar la prueba A/B?\n",
    "1. No contamos con información sobre el estado de los datos antes de la implementación de las intervenciones, que ocurrió el 07/12/2020.\n",
    "2. No sabemos qué tan comparables eran los grupos antes de esa fecha.\n",
    "3. No tenemos certeza de si los grupos fueron distribuidos de manera aleatoria.\n",
    "4. El tamaño de los grupos es diferente, especialmente en el caso del grupo recommender_system_test, lo cual podría afectar la interpretación de los resultados."
   ]
  },
  {
   "cell_type": "markdown",
   "id": "c0deff60-08a1-4a71-86c1-ff0a4d078642",
   "metadata": {},
   "source": [
    "A continuacion, responderemos las preguntas clave que nos permitirán determinar si la prueba se llevó a cabo correctamente."
   ]
  },
  {
   "cell_type": "markdown",
   "id": "731ee84d-83ed-4a53-8301-28ca6984fffc",
   "metadata": {},
   "source": [
    "#### ¿Hay usuarios que están presentes en ambas muestras?\n",
    "\n",
    "Ahora vamos a determinar si existen usuarios que estén participando en ambos experimentos y si esto representa un problema que afecte los resultados del AB testing. Hay tres tipos de duplicados:\n",
    "\n",
    "Usuarios que están en ambos experimentos pero en grupos diferentes.\n",
    "Usuarios que están en ambos experimentos y en el grupo de prueba en ambos.\n",
    "Usuarios que están en ambos experimentos y en el grupo de control en ambos.\n",
    "Los dos primeros casos representan un problema y deben ser eliminados, ya que afectan las conclusiones del AB testing. El tercer caso no representa un problema, ya que estos usuarios no recibieron ninguna de las dos intervenciones.\n"
   ]
  },
  {
   "cell_type": "code",
   "execution_count": 39,
   "id": "49f0fa00-e155-49db-bb7b-83c3d2078315",
   "metadata": {},
   "outputs": [
    {
     "data": {
      "text/plain": [
       "14525"
      ]
     },
     "execution_count": 39,
     "metadata": {},
     "output_type": "execute_result"
    }
   ],
   "source": [
    "# Recordamos el contenido de nuestro Df participants\n",
    "participants.sample(5)\n",
    "len(participants)"
   ]
  },
  {
   "cell_type": "code",
   "execution_count": 40,
   "id": "7e51d745-c5a7-4847-ac42-8b1c3cc41c88",
   "metadata": {},
   "outputs": [],
   "source": [
    "# Filtramos los usuarios que participaron en el experimento 'recommender_system_test' \n",
    "recommender_users = participants[participants['ab_test']=='recommender_system_test'].drop(columns = 'ab_test')\n",
    "\n",
    "# Filtramos los usuarios que participaron en el experimento 'interface_eu_test'\n",
    "interface_users = participants[participants['ab_test']=='interface_eu_test'].drop(columns = 'ab_test')"
   ]
  },
  {
   "cell_type": "code",
   "execution_count": 41,
   "id": "f2e47e65-899c-41f2-a1d9-59db45259688",
   "metadata": {},
   "outputs": [
    {
     "data": {
      "text/html": [
       "<div>\n",
       "<style scoped>\n",
       "    .dataframe tbody tr th:only-of-type {\n",
       "        vertical-align: middle;\n",
       "    }\n",
       "\n",
       "    .dataframe tbody tr th {\n",
       "        vertical-align: top;\n",
       "    }\n",
       "\n",
       "    .dataframe thead th {\n",
       "        text-align: right;\n",
       "    }\n",
       "</style>\n",
       "<table border=\"1\" class=\"dataframe\">\n",
       "  <thead>\n",
       "    <tr style=\"text-align: right;\">\n",
       "      <th></th>\n",
       "      <th>user_id</th>\n",
       "      <th>group_x</th>\n",
       "      <th>group_y</th>\n",
       "    </tr>\n",
       "  </thead>\n",
       "  <tbody>\n",
       "    <tr>\n",
       "      <th>10</th>\n",
       "      <td>EEF5EFB2D5915CF1</td>\n",
       "      <td>A</td>\n",
       "      <td>A</td>\n",
       "    </tr>\n",
       "    <tr>\n",
       "      <th>715</th>\n",
       "      <td>5B1F39B5D751B669</td>\n",
       "      <td>B</td>\n",
       "      <td>A</td>\n",
       "    </tr>\n",
       "    <tr>\n",
       "      <th>449</th>\n",
       "      <td>9A8CD4B32D7511F1</td>\n",
       "      <td>A</td>\n",
       "      <td>B</td>\n",
       "    </tr>\n",
       "  </tbody>\n",
       "</table>\n",
       "</div>"
      ],
      "text/plain": [
       "              user_id group_x group_y\n",
       "10   EEF5EFB2D5915CF1       A       A\n",
       "715  5B1F39B5D751B669       B       A\n",
       "449  9A8CD4B32D7511F1       A       B"
      ]
     },
     "execution_count": 41,
     "metadata": {},
     "output_type": "execute_result"
    }
   ],
   "source": [
    "# Participantes que están en ambos experimentos (recommender_system_test e interface_eu_test)\n",
    "dup_users = recommender_users.merge(interface_users, on = 'user_id', how = 'inner')\n",
    "dup_users.sample(3)"
   ]
  },
  {
   "cell_type": "code",
   "execution_count": 42,
   "id": "22fe2b89-eec7-470b-a2a2-7a73791902c0",
   "metadata": {},
   "outputs": [
    {
     "data": {
      "text/plain": [
       "887"
      ]
     },
     "execution_count": 42,
     "metadata": {},
     "output_type": "execute_result"
    }
   ],
   "source": [
    "# Total de participantes en ambos experimentos\n",
    "len(dup_users)"
   ]
  },
  {
   "cell_type": "code",
   "execution_count": 43,
   "id": "2ccece63-a896-46fe-9852-45628f62a747",
   "metadata": {},
   "outputs": [],
   "source": [
    "# Renombramos las columnas para un mejor entendimiento\n",
    "dup_users = dup_users.rename(columns = {\n",
    "    'group_x' : 'group_recommender_system',\n",
    "    'group_y' : 'group_interface_eu'\n",
    "})"
   ]
  },
  {
   "cell_type": "code",
   "execution_count": 44,
   "id": "9c6707a3-dd06-40c3-9d6e-896dc03193ae",
   "metadata": {},
   "outputs": [],
   "source": [
    "#  Creamos una lista con los usuarios que estan en ambos experimentos y al menos en un grupo de prueba\n",
    "dup_users_list = list(dup_users[\n",
    "    (dup_users['group_recommender_system']== 'A') & (dup_users['group_interface_eu']=='B') |\n",
    "    (dup_users['group_recommender_system']== 'B') & (dup_users['group_interface_eu']=='B') |\n",
    "    (dup_users['group_recommender_system']== 'B') & (dup_users['group_interface_eu']=='A') \n",
    "]['user_id'])"
   ]
  },
  {
   "cell_type": "code",
   "execution_count": 45,
   "id": "ae84fb0d-654c-4e4c-82ba-68c983490501",
   "metadata": {},
   "outputs": [
    {
     "data": {
      "text/html": [
       "<div>\n",
       "<style scoped>\n",
       "    .dataframe tbody tr th:only-of-type {\n",
       "        vertical-align: middle;\n",
       "    }\n",
       "\n",
       "    .dataframe tbody tr th {\n",
       "        vertical-align: top;\n",
       "    }\n",
       "\n",
       "    .dataframe thead th {\n",
       "        text-align: right;\n",
       "    }\n",
       "</style>\n",
       "<table border=\"1\" class=\"dataframe\">\n",
       "  <thead>\n",
       "    <tr style=\"text-align: right;\">\n",
       "      <th></th>\n",
       "      <th>user_id</th>\n",
       "      <th>group</th>\n",
       "      <th>ab_test</th>\n",
       "    </tr>\n",
       "  </thead>\n",
       "  <tbody>\n",
       "    <tr>\n",
       "      <th>10597</th>\n",
       "      <td>864ED76959607597</td>\n",
       "      <td>A</td>\n",
       "      <td>interface_eu_test</td>\n",
       "    </tr>\n",
       "    <tr>\n",
       "      <th>9589</th>\n",
       "      <td>C5991A7881CB6716</td>\n",
       "      <td>A</td>\n",
       "      <td>interface_eu_test</td>\n",
       "    </tr>\n",
       "    <tr>\n",
       "      <th>12010</th>\n",
       "      <td>B3841A63BC1D38C7</td>\n",
       "      <td>B</td>\n",
       "      <td>interface_eu_test</td>\n",
       "    </tr>\n",
       "    <tr>\n",
       "      <th>9110</th>\n",
       "      <td>26A9947574A5DD45</td>\n",
       "      <td>A</td>\n",
       "      <td>interface_eu_test</td>\n",
       "    </tr>\n",
       "    <tr>\n",
       "      <th>7975</th>\n",
       "      <td>412779BAB41FF529</td>\n",
       "      <td>B</td>\n",
       "      <td>interface_eu_test</td>\n",
       "    </tr>\n",
       "  </tbody>\n",
       "</table>\n",
       "</div>"
      ],
      "text/plain": [
       "                user_id group            ab_test\n",
       "10597  864ED76959607597     A  interface_eu_test\n",
       "9589   C5991A7881CB6716     A  interface_eu_test\n",
       "12010  B3841A63BC1D38C7     B  interface_eu_test\n",
       "9110   26A9947574A5DD45     A  interface_eu_test\n",
       "7975   412779BAB41FF529     B  interface_eu_test"
      ]
     },
     "execution_count": 45,
     "metadata": {},
     "output_type": "execute_result"
    }
   ],
   "source": [
    "# Eliminamos a los que resultaron de la celda anterior\n",
    "participants_clean = participants[~participants['user_id'].isin(dup_users_list)]\n",
    "participants_clean.sample(5)"
   ]
  },
  {
   "cell_type": "code",
   "execution_count": 46,
   "id": "a6647c54-8ef9-453b-88ca-9448a634bedf",
   "metadata": {},
   "outputs": [
    {
     "data": {
      "text/plain": [
       "13431"
      ]
     },
     "execution_count": 46,
     "metadata": {},
     "output_type": "execute_result"
    }
   ],
   "source": [
    "len(participants_clean)"
   ]
  },
  {
   "cell_type": "markdown",
   "id": "f38c1fa4-a001-4934-b56a-92cea4ba5e88",
   "metadata": {},
   "source": [
    "<div style=\"background-color: lightblue; padding: 10px; border-radius: 5px;\">\r\n",
    "\r\n",
    "Se identificaron y eliminaron los usuarios duplicados que participaron en ambos experimentos, lo cual podría haber afectado los resultados del AB testing. Después de esta limpieza, el número de participantes se redujo a 13,431, asegurando que los datos fueran más representativos y libres de sesgos. Con esta muestra depurada, los resultados del análisis serán más confiables, y el impacto de los duplicados sobre las conclusiones del AB testing se ha minimizado."
   ]
  },
  {
   "cell_type": "markdown",
   "id": "5e12b66e-9586-445c-a981-ef75e43ff309",
   "metadata": {},
   "source": [
    "#### ¿El número de eventos por usuario está distribuido equitativamente entre las muestras?\n"
   ]
  },
  {
   "cell_type": "markdown",
   "id": "036433ce-4599-4c7f-bce4-430e8cf5529b",
   "metadata": {},
   "source": [
    "Con el DataFrame libre de usuarios repetidos, procedemos a calcular los eventos por usuario."
   ]
  },
  {
   "cell_type": "code",
   "execution_count": 50,
   "id": "f4dfc017-7103-4af4-8b14-45a5702cb0fd",
   "metadata": {},
   "outputs": [
    {
     "data": {
      "text/html": [
       "<div>\n",
       "<style scoped>\n",
       "    .dataframe tbody tr th:only-of-type {\n",
       "        vertical-align: middle;\n",
       "    }\n",
       "\n",
       "    .dataframe tbody tr th {\n",
       "        vertical-align: top;\n",
       "    }\n",
       "\n",
       "    .dataframe thead th {\n",
       "        text-align: right;\n",
       "    }\n",
       "</style>\n",
       "<table border=\"1\" class=\"dataframe\">\n",
       "  <thead>\n",
       "    <tr style=\"text-align: right;\">\n",
       "      <th></th>\n",
       "      <th>user_id</th>\n",
       "      <th>group</th>\n",
       "      <th>ab_test</th>\n",
       "      <th>first_date</th>\n",
       "    </tr>\n",
       "  </thead>\n",
       "  <tbody>\n",
       "    <tr>\n",
       "      <th>0</th>\n",
       "      <td>D1ABA3E2887B6A73</td>\n",
       "      <td>A</td>\n",
       "      <td>recommender_system_test</td>\n",
       "      <td>2020-12-07</td>\n",
       "    </tr>\n",
       "    <tr>\n",
       "      <th>1</th>\n",
       "      <td>A7A3664BD6242119</td>\n",
       "      <td>A</td>\n",
       "      <td>recommender_system_test</td>\n",
       "      <td>2020-12-20</td>\n",
       "    </tr>\n",
       "    <tr>\n",
       "      <th>2</th>\n",
       "      <td>DABC14FDDFADD29E</td>\n",
       "      <td>A</td>\n",
       "      <td>recommender_system_test</td>\n",
       "      <td>2020-12-08</td>\n",
       "    </tr>\n",
       "    <tr>\n",
       "      <th>3</th>\n",
       "      <td>04988C5DF189632E</td>\n",
       "      <td>A</td>\n",
       "      <td>recommender_system_test</td>\n",
       "      <td>2020-12-14</td>\n",
       "    </tr>\n",
       "    <tr>\n",
       "      <th>4</th>\n",
       "      <td>4FF2998A348C484F</td>\n",
       "      <td>A</td>\n",
       "      <td>recommender_system_test</td>\n",
       "      <td>2020-12-20</td>\n",
       "    </tr>\n",
       "  </tbody>\n",
       "</table>\n",
       "</div>"
      ],
      "text/plain": [
       "            user_id group                  ab_test first_date\n",
       "0  D1ABA3E2887B6A73     A  recommender_system_test 2020-12-07\n",
       "1  A7A3664BD6242119     A  recommender_system_test 2020-12-20\n",
       "2  DABC14FDDFADD29E     A  recommender_system_test 2020-12-08\n",
       "3  04988C5DF189632E     A  recommender_system_test 2020-12-14\n",
       "4  4FF2998A348C484F     A  recommender_system_test 2020-12-20"
      ]
     },
     "execution_count": 50,
     "metadata": {},
     "output_type": "execute_result"
    }
   ],
   "source": [
    "# Fusionamos la tabla limpia con la información de los nuevos usuarios (new_users), \n",
    "# agregando la fecha de incorporación y eliminando las columnas 'region' y 'device'.\n",
    "participants_clean = participants_clean.merge(new_users, on = 'user_id', how = 'left').drop(\n",
    "                    columns = ['region', 'device'])\n",
    "participants_clean.head()\n"
   ]
  },
  {
   "cell_type": "code",
   "execution_count": 51,
   "id": "215adb65-bff1-4538-ac5c-2290eb85b641",
   "metadata": {},
   "outputs": [
    {
     "data": {
      "text/html": [
       "<div>\n",
       "<style scoped>\n",
       "    .dataframe tbody tr th:only-of-type {\n",
       "        vertical-align: middle;\n",
       "    }\n",
       "\n",
       "    .dataframe tbody tr th {\n",
       "        vertical-align: top;\n",
       "    }\n",
       "\n",
       "    .dataframe thead th {\n",
       "        text-align: right;\n",
       "    }\n",
       "</style>\n",
       "<table border=\"1\" class=\"dataframe\">\n",
       "  <thead>\n",
       "    <tr style=\"text-align: right;\">\n",
       "      <th></th>\n",
       "      <th>user_id</th>\n",
       "      <th>group</th>\n",
       "      <th>ab_test</th>\n",
       "      <th>first_date</th>\n",
       "      <th>event_dt</th>\n",
       "      <th>event_name</th>\n",
       "      <th>details</th>\n",
       "    </tr>\n",
       "  </thead>\n",
       "  <tbody>\n",
       "    <tr>\n",
       "      <th>0</th>\n",
       "      <td>D1ABA3E2887B6A73</td>\n",
       "      <td>A</td>\n",
       "      <td>recommender_system_test</td>\n",
       "      <td>2020-12-07</td>\n",
       "      <td>2020-12-07</td>\n",
       "      <td>purchase</td>\n",
       "      <td>99.99</td>\n",
       "    </tr>\n",
       "    <tr>\n",
       "      <th>1</th>\n",
       "      <td>D1ABA3E2887B6A73</td>\n",
       "      <td>A</td>\n",
       "      <td>recommender_system_test</td>\n",
       "      <td>2020-12-07</td>\n",
       "      <td>2020-12-07</td>\n",
       "      <td>product_cart</td>\n",
       "      <td>NaN</td>\n",
       "    </tr>\n",
       "    <tr>\n",
       "      <th>2</th>\n",
       "      <td>D1ABA3E2887B6A73</td>\n",
       "      <td>A</td>\n",
       "      <td>recommender_system_test</td>\n",
       "      <td>2020-12-07</td>\n",
       "      <td>2020-12-07</td>\n",
       "      <td>product_page</td>\n",
       "      <td>NaN</td>\n",
       "    </tr>\n",
       "    <tr>\n",
       "      <th>3</th>\n",
       "      <td>D1ABA3E2887B6A73</td>\n",
       "      <td>A</td>\n",
       "      <td>recommender_system_test</td>\n",
       "      <td>2020-12-07</td>\n",
       "      <td>2020-12-07</td>\n",
       "      <td>login</td>\n",
       "      <td>NaN</td>\n",
       "    </tr>\n",
       "    <tr>\n",
       "      <th>4</th>\n",
       "      <td>A7A3664BD6242119</td>\n",
       "      <td>A</td>\n",
       "      <td>recommender_system_test</td>\n",
       "      <td>2020-12-20</td>\n",
       "      <td>2020-12-20</td>\n",
       "      <td>product_page</td>\n",
       "      <td>NaN</td>\n",
       "    </tr>\n",
       "  </tbody>\n",
       "</table>\n",
       "</div>"
      ],
      "text/plain": [
       "            user_id group                  ab_test first_date   event_dt  \\\n",
       "0  D1ABA3E2887B6A73     A  recommender_system_test 2020-12-07 2020-12-07   \n",
       "1  D1ABA3E2887B6A73     A  recommender_system_test 2020-12-07 2020-12-07   \n",
       "2  D1ABA3E2887B6A73     A  recommender_system_test 2020-12-07 2020-12-07   \n",
       "3  D1ABA3E2887B6A73     A  recommender_system_test 2020-12-07 2020-12-07   \n",
       "4  A7A3664BD6242119     A  recommender_system_test 2020-12-20 2020-12-20   \n",
       "\n",
       "     event_name  details  \n",
       "0      purchase    99.99  \n",
       "1  product_cart      NaN  \n",
       "2  product_page      NaN  \n",
       "3         login      NaN  \n",
       "4  product_page      NaN  "
      ]
     },
     "execution_count": 51,
     "metadata": {},
     "output_type": "execute_result"
    }
   ],
   "source": [
    "# Fusionamos la tabla limpia de participantes con la de eventos y filtramos los eventos que ocurren hasta \n",
    "# 14 días después de la incorporación de los usuarios, eliminando la columna 'diff' creada para el cálculo.\n",
    "events_clean = participants_clean.merge(events, on='user_id', how='left')\n",
    "events_clean['diff'] = events_clean['event_dt'] - events_clean['first_date']\n",
    "events_clean = events_clean[events_clean['diff']<= '14 days'].drop(columns = 'diff')\n",
    "events_clean.head()"
   ]
  },
  {
   "cell_type": "code",
   "execution_count": 52,
   "id": "1ff9fe3e-0fb2-463b-8a95-8349f37e761c",
   "metadata": {},
   "outputs": [
    {
     "data": {
      "text/html": [
       "<div>\n",
       "<style scoped>\n",
       "    .dataframe tbody tr th:only-of-type {\n",
       "        vertical-align: middle;\n",
       "    }\n",
       "\n",
       "    .dataframe tbody tr th {\n",
       "        vertical-align: top;\n",
       "    }\n",
       "\n",
       "    .dataframe thead th {\n",
       "        text-align: right;\n",
       "    }\n",
       "</style>\n",
       "<table border=\"1\" class=\"dataframe\">\n",
       "  <thead>\n",
       "    <tr style=\"text-align: right;\">\n",
       "      <th></th>\n",
       "      <th>user_id</th>\n",
       "      <th>group</th>\n",
       "      <th>ab_test</th>\n",
       "      <th>event_count</th>\n",
       "    </tr>\n",
       "  </thead>\n",
       "  <tbody>\n",
       "    <tr>\n",
       "      <th>0</th>\n",
       "      <td>0002CE61FF2C4011</td>\n",
       "      <td>A</td>\n",
       "      <td>interface_eu_test</td>\n",
       "      <td>12</td>\n",
       "    </tr>\n",
       "    <tr>\n",
       "      <th>1</th>\n",
       "      <td>0010A1C096941592</td>\n",
       "      <td>A</td>\n",
       "      <td>recommender_system_test</td>\n",
       "      <td>12</td>\n",
       "    </tr>\n",
       "    <tr>\n",
       "      <th>2</th>\n",
       "      <td>001E72F50D1C48FA</td>\n",
       "      <td>B</td>\n",
       "      <td>interface_eu_test</td>\n",
       "      <td>6</td>\n",
       "    </tr>\n",
       "    <tr>\n",
       "      <th>3</th>\n",
       "      <td>002412F1EB3F6E38</td>\n",
       "      <td>A</td>\n",
       "      <td>interface_eu_test</td>\n",
       "      <td>6</td>\n",
       "    </tr>\n",
       "    <tr>\n",
       "      <th>4</th>\n",
       "      <td>002540BE89C930FB</td>\n",
       "      <td>A</td>\n",
       "      <td>interface_eu_test</td>\n",
       "      <td>9</td>\n",
       "    </tr>\n",
       "  </tbody>\n",
       "</table>\n",
       "</div>"
      ],
      "text/plain": [
       "            user_id group                  ab_test  event_count\n",
       "0  0002CE61FF2C4011     A        interface_eu_test           12\n",
       "1  0010A1C096941592     A  recommender_system_test           12\n",
       "2  001E72F50D1C48FA     B        interface_eu_test            6\n",
       "3  002412F1EB3F6E38     A        interface_eu_test            6\n",
       "4  002540BE89C930FB     A        interface_eu_test            9"
      ]
     },
     "execution_count": 52,
     "metadata": {},
     "output_type": "execute_result"
    }
   ],
   "source": [
    "# Contamos el número de eventos por usuario, grupo y experimento.\n",
    "events_per_user = events_clean.groupby(['user_id','group','ab_test']).size().reset_index(name='event_count')\n",
    "events_per_user.head()"
   ]
  },
  {
   "cell_type": "code",
   "execution_count": 53,
   "id": "4d866872-a64f-4cc1-9c81-e7365495f564",
   "metadata": {},
   "outputs": [
    {
     "data": {
      "text/html": [
       "<div>\n",
       "<style scoped>\n",
       "    .dataframe tbody tr th:only-of-type {\n",
       "        vertical-align: middle;\n",
       "    }\n",
       "\n",
       "    .dataframe tbody tr th {\n",
       "        vertical-align: top;\n",
       "    }\n",
       "\n",
       "    .dataframe thead tr th {\n",
       "        text-align: left;\n",
       "    }\n",
       "</style>\n",
       "<table border=\"1\" class=\"dataframe\">\n",
       "  <thead>\n",
       "    <tr>\n",
       "      <th></th>\n",
       "      <th>ab_test</th>\n",
       "      <th>group</th>\n",
       "      <th>user_id</th>\n",
       "      <th colspan=\"2\" halign=\"left\">event_count</th>\n",
       "    </tr>\n",
       "    <tr>\n",
       "      <th></th>\n",
       "      <th></th>\n",
       "      <th></th>\n",
       "      <th>count</th>\n",
       "      <th>sum</th>\n",
       "      <th>mean</th>\n",
       "    </tr>\n",
       "  </thead>\n",
       "  <tbody>\n",
       "    <tr>\n",
       "      <th>0</th>\n",
       "      <td>interface_eu_test</td>\n",
       "      <td>A</td>\n",
       "      <td>5350</td>\n",
       "      <td>38238</td>\n",
       "      <td>7.147290</td>\n",
       "    </tr>\n",
       "    <tr>\n",
       "      <th>1</th>\n",
       "      <td>interface_eu_test</td>\n",
       "      <td>B</td>\n",
       "      <td>4951</td>\n",
       "      <td>34896</td>\n",
       "      <td>7.048273</td>\n",
       "    </tr>\n",
       "    <tr>\n",
       "      <th>2</th>\n",
       "      <td>recommender_system_test</td>\n",
       "      <td>A</td>\n",
       "      <td>2422</td>\n",
       "      <td>16261</td>\n",
       "      <td>6.713873</td>\n",
       "    </tr>\n",
       "    <tr>\n",
       "      <th>3</th>\n",
       "      <td>recommender_system_test</td>\n",
       "      <td>B</td>\n",
       "      <td>706</td>\n",
       "      <td>3807</td>\n",
       "      <td>5.392351</td>\n",
       "    </tr>\n",
       "  </tbody>\n",
       "</table>\n",
       "</div>"
      ],
      "text/plain": [
       "                   ab_test group user_id event_count          \n",
       "                                   count         sum      mean\n",
       "0        interface_eu_test     A    5350       38238  7.147290\n",
       "1        interface_eu_test     B    4951       34896  7.048273\n",
       "2  recommender_system_test     A    2422       16261  6.713873\n",
       "3  recommender_system_test     B     706        3807  5.392351"
      ]
     },
     "execution_count": 53,
     "metadata": {},
     "output_type": "execute_result"
    }
   ],
   "source": [
    "# Resumimos el número de usuarios y eventos por experimento (ab_test) y grupo, calculando la cantidad total \n",
    "# de usuarios, la suma y el promedio de eventos por usuario en cada combinación de 'ab_test' y 'group'.\n",
    "events_per_user_summary = events_per_user.groupby(['ab_test', 'group' ]).agg(\n",
    "    {\n",
    "        'user_id':'count', \n",
    "        'event_count':['sum', 'mean'] \n",
    "    }\n",
    ").reset_index()\n",
    "events_per_user_summary"
   ]
  },
  {
   "cell_type": "code",
   "execution_count": null,
   "id": "18746162-e22a-4cbe-b41e-6e072e4657ca",
   "metadata": {},
   "outputs": [],
   "source": []
  },
  {
   "cell_type": "code",
   "execution_count": 54,
   "id": "9ffcf53d-b1fc-4ddd-b95a-542e4bb95e34",
   "metadata": {},
   "outputs": [],
   "source": [
    "# Función para generar las gráficas resumidas\n",
    "def plot_summary_graphs(events_per_user_summary):\n",
    "    # Asegurándonos de que los nombres de las columnas estén correctamente formateados para la gráfica\n",
    "    events_per_user_summary.columns = ['ab_test', 'group', 'user_count', 'event_count_sum', 'event_count_mean']\n",
    "\n",
    "    # Creamos las gráficas\n",
    "    fig, axes = plt.subplots(1, 3, figsize=(15, 5))  # Tres gráficas en una fila\n",
    "\n",
    "    # Gráfico del número de usuarios por experimento y grupo\n",
    "    sns.barplot(x='ab_test', y='user_count', hue='group', data=events_per_user_summary, ax=axes[0], errorbar=None, palette='muted')\n",
    "    axes[0].set_title('Número de usuarios por experimento y grupo', fontsize=12)\n",
    "    axes[0].set_xlabel('Experimento', fontsize=10)\n",
    "    axes[0].set_ylabel('Número de usuarios', fontsize=10)\n",
    "\n",
    "    # Gráfico de la suma de eventos por experimento y grupo\n",
    "    sns.barplot(x='ab_test', y='event_count_sum', hue='group', data=events_per_user_summary, ax=axes[1], errorbar=None, palette='muted')\n",
    "    axes[1].set_title('Suma de eventos por experimento y grupo', fontsize=12)\n",
    "    axes[1].set_xlabel('Experimento', fontsize=10)\n",
    "    axes[1].set_ylabel('Suma de eventos', fontsize=10)\n",
    "\n",
    "    # Gráfico del promedio de eventos por usuario\n",
    "    sns.barplot(x='ab_test', y='event_count_mean', hue='group', data=events_per_user_summary, ax=axes[2], errorbar=None, palette='muted')\n",
    "    axes[2].set_title('Promedio de eventos por usuario', fontsize=12)\n",
    "    axes[2].set_xlabel('Experimento', fontsize=10)\n",
    "    axes[2].set_ylabel('Promedio de eventos por usuario', fontsize=10)\n",
    "\n",
    "    # Ajustamos el layout para que todo encaje bien y mostramos\n",
    "    plt.tight_layout()\n",
    "    plt.show()"
   ]
  },
  {
   "cell_type": "code",
   "execution_count": 55,
   "id": "9d11feaa-51d5-450e-80ad-b6e0c94aa0e0",
   "metadata": {},
   "outputs": [
    {
     "data": {
      "image/png": "[encoded data removed]",
      "text/plain": [
       "<Figure size 1500x500 with 3 Axes>"
      ]
     },
     "metadata": {},
     "output_type": "display_data"
    }
   ],
   "source": [
    "# Llamamos a la función para mostrar las gráficas\n",
    "plot_summary_graphs(events_per_user_summary)"
   ]
  },
  {
   "cell_type": "code",
   "execution_count": 56,
   "id": "3e2d235d-3ed4-45e7-8361-877354e67055",
   "metadata": {},
   "outputs": [
    {
     "data": {
      "text/html": [
       "<div>\n",
       "<style scoped>\n",
       "    .dataframe tbody tr th:only-of-type {\n",
       "        vertical-align: middle;\n",
       "    }\n",
       "\n",
       "    .dataframe tbody tr th {\n",
       "        vertical-align: top;\n",
       "    }\n",
       "\n",
       "    .dataframe thead th {\n",
       "        text-align: right;\n",
       "    }\n",
       "</style>\n",
       "<table border=\"1\" class=\"dataframe\">\n",
       "  <thead>\n",
       "    <tr style=\"text-align: right;\">\n",
       "      <th></th>\n",
       "      <th>user_id</th>\n",
       "      <th>group</th>\n",
       "      <th>ab_test</th>\n",
       "      <th>event_count</th>\n",
       "    </tr>\n",
       "  </thead>\n",
       "  <tbody>\n",
       "    <tr>\n",
       "      <th>1</th>\n",
       "      <td>0010A1C096941592</td>\n",
       "      <td>A</td>\n",
       "      <td>recommender_system_test</td>\n",
       "      <td>12</td>\n",
       "    </tr>\n",
       "    <tr>\n",
       "      <th>8</th>\n",
       "      <td>00341D8401F0F665</td>\n",
       "      <td>A</td>\n",
       "      <td>recommender_system_test</td>\n",
       "      <td>2</td>\n",
       "    </tr>\n",
       "    <tr>\n",
       "      <th>10</th>\n",
       "      <td>003DF44D7589BBD4</td>\n",
       "      <td>A</td>\n",
       "      <td>recommender_system_test</td>\n",
       "      <td>15</td>\n",
       "    </tr>\n",
       "    <tr>\n",
       "      <th>13</th>\n",
       "      <td>00505E15A9D81546</td>\n",
       "      <td>A</td>\n",
       "      <td>recommender_system_test</td>\n",
       "      <td>5</td>\n",
       "    </tr>\n",
       "    <tr>\n",
       "      <th>17</th>\n",
       "      <td>005E096DBD379BCF</td>\n",
       "      <td>B</td>\n",
       "      <td>recommender_system_test</td>\n",
       "      <td>4</td>\n",
       "    </tr>\n",
       "  </tbody>\n",
       "</table>\n",
       "</div>"
      ],
      "text/plain": [
       "             user_id group                  ab_test  event_count\n",
       "1   0010A1C096941592     A  recommender_system_test           12\n",
       "8   00341D8401F0F665     A  recommender_system_test            2\n",
       "10  003DF44D7589BBD4     A  recommender_system_test           15\n",
       "13  00505E15A9D81546     A  recommender_system_test            5\n",
       "17  005E096DBD379BCF     B  recommender_system_test            4"
      ]
     },
     "execution_count": 56,
     "metadata": {},
     "output_type": "execute_result"
    }
   ],
   "source": [
    "# Filtramos datos por experiento 'recommender_system_test'\n",
    "experiment_recommender = events_per_user[events_per_user['ab_test'] == \"recommender_system_test\"]\n",
    "experiment_recommender.head()"
   ]
  },
  {
   "cell_type": "code",
   "execution_count": 57,
   "id": "a8a3632d-c52b-43c4-966a-e3d30d31b778",
   "metadata": {},
   "outputs": [
    {
     "data": {
      "image/png": "[encoded data removed]",
      "text/plain": [
       "<Figure size 1200x500 with 1 Axes>"
      ]
     },
     "metadata": {},
     "output_type": "display_data"
    }
   ],
   "source": [
    "# Histograma de eventos por grupo para el experimento recommender_system_test\n",
    "plt.figure(figsize=(12, 5))\n",
    "sns.histplot(experiment_recommender[experiment_recommender['group']=='A']['event_count'], bins=50, alpha=0.5, label=\"Grupo A\", kde=True)\n",
    "sns.histplot(experiment_recommender[experiment_recommender['group']=='B']['event_count'], bins=50, alpha=0.5, label=\"Grupo B\", kde=True)\n",
    "plt.xlabel(\"Número de eventos por usuario\")\n",
    "plt.ylabel(\"Frecuencia\")\n",
    "plt.title(\"Distribución de eventos por usuario en grupos A y B para experimento recommender_system_test\")\n",
    "plt.legend()\n",
    "plt.show()"
   ]
  },
  {
   "cell_type": "code",
   "execution_count": 58,
   "id": "6870435f-0dd4-41a1-8939-e3471c8e0326",
   "metadata": {},
   "outputs": [
    {
     "data": {
      "image/png": "[encoded data removed]",
      "text/plain": [
       "<Figure size 800x600 with 1 Axes>"
      ]
     },
     "metadata": {},
     "output_type": "display_data"
    }
   ],
   "source": [
    "# Visualización con boxplots\n",
    "plt.figure(figsize=(8, 6))\n",
    "sns.boxplot(x=experiment_recommender['group'], y=experiment_recommender['event_count'])\n",
    "plt.xlabel(\"Grupo\")\n",
    "plt.ylabel(\"Número de eventos por usuario\")\n",
    "plt.title(\"Distribución de eventos por usuario en grupos A y B en \")\n",
    "plt.ylim(0, experiment_recommender[\"event_count\"].quantile(0.99))  # Limita los valores extremos para mejor visualización\n",
    "plt.show()"
   ]
  },
  {
   "cell_type": "markdown",
   "id": "6394a805-6f07-4d9b-84db-8629a484bb4c",
   "metadata": {},
   "source": [
    "<div style=\"background-color: lightblue; padding: 10px; border-radius: 5px;\">\n",
    "En el análisis de las gráficas para el recommender_system_test, observamos que el grupo A, que es el grupo de control, tiene más usuarios y una mayor frecuencia de eventos por usuario en comparación con el grupo B. Esta tendencia se confirma al examinar el boxplot, donde se ve que la media del grupo A es mayor."
   ]
  },
  {
   "cell_type": "code",
   "execution_count": 60,
   "id": "0f1aba71-e5f1-43b2-84ef-c8c11c0c2b7e",
   "metadata": {},
   "outputs": [
    {
     "data": {
      "text/html": [
       "<div>\n",
       "<style scoped>\n",
       "    .dataframe tbody tr th:only-of-type {\n",
       "        vertical-align: middle;\n",
       "    }\n",
       "\n",
       "    .dataframe tbody tr th {\n",
       "        vertical-align: top;\n",
       "    }\n",
       "\n",
       "    .dataframe thead th {\n",
       "        text-align: right;\n",
       "    }\n",
       "</style>\n",
       "<table border=\"1\" class=\"dataframe\">\n",
       "  <thead>\n",
       "    <tr style=\"text-align: right;\">\n",
       "      <th></th>\n",
       "      <th>user_id</th>\n",
       "      <th>group</th>\n",
       "      <th>ab_test</th>\n",
       "      <th>event_count</th>\n",
       "    </tr>\n",
       "  </thead>\n",
       "  <tbody>\n",
       "    <tr>\n",
       "      <th>0</th>\n",
       "      <td>0002CE61FF2C4011</td>\n",
       "      <td>A</td>\n",
       "      <td>interface_eu_test</td>\n",
       "      <td>12</td>\n",
       "    </tr>\n",
       "    <tr>\n",
       "      <th>2</th>\n",
       "      <td>001E72F50D1C48FA</td>\n",
       "      <td>B</td>\n",
       "      <td>interface_eu_test</td>\n",
       "      <td>6</td>\n",
       "    </tr>\n",
       "    <tr>\n",
       "      <th>3</th>\n",
       "      <td>002412F1EB3F6E38</td>\n",
       "      <td>A</td>\n",
       "      <td>interface_eu_test</td>\n",
       "      <td>6</td>\n",
       "    </tr>\n",
       "    <tr>\n",
       "      <th>4</th>\n",
       "      <td>002540BE89C930FB</td>\n",
       "      <td>A</td>\n",
       "      <td>interface_eu_test</td>\n",
       "      <td>9</td>\n",
       "    </tr>\n",
       "    <tr>\n",
       "      <th>5</th>\n",
       "      <td>0031F1B5E9FBF708</td>\n",
       "      <td>B</td>\n",
       "      <td>interface_eu_test</td>\n",
       "      <td>4</td>\n",
       "    </tr>\n",
       "  </tbody>\n",
       "</table>\n",
       "</div>"
      ],
      "text/plain": [
       "            user_id group            ab_test  event_count\n",
       "0  0002CE61FF2C4011     A  interface_eu_test           12\n",
       "2  001E72F50D1C48FA     B  interface_eu_test            6\n",
       "3  002412F1EB3F6E38     A  interface_eu_test            6\n",
       "4  002540BE89C930FB     A  interface_eu_test            9\n",
       "5  0031F1B5E9FBF708     B  interface_eu_test            4"
      ]
     },
     "execution_count": 60,
     "metadata": {},
     "output_type": "execute_result"
    }
   ],
   "source": [
    "# Filtramos datos por experiento 'interface_eu_test'\n",
    "experiment_interface_eu = events_per_user[events_per_user['ab_test'] == \"interface_eu_test\"]\n",
    "experiment_interface_eu.head()"
   ]
  },
  {
   "cell_type": "code",
   "execution_count": 61,
   "id": "80040a01-85d0-439d-8ca0-8fe679327368",
   "metadata": {},
   "outputs": [
    {
     "data": {
      "image/png": "[encoded data removed]",
      "text/plain": [
       "<Figure size 1200x500 with 1 Axes>"
      ]
     },
     "metadata": {},
     "output_type": "display_data"
    }
   ],
   "source": [
    "# Histograma de eventos por grupo para el experimento interface_eu_test\n",
    "plt.figure(figsize=(12, 5))\n",
    "sns.histplot(experiment_interface_eu[experiment_interface_eu['group']=='A']['event_count'], bins=50, alpha=0.5, label=\"Grupo A\", kde=True)\n",
    "sns.histplot(experiment_interface_eu[experiment_interface_eu['group']=='B']['event_count'], bins=50, alpha=0.5, label=\"Grupo B\", kde=True)\n",
    "plt.xlabel(\"Número de eventos por usuario\")\n",
    "plt.ylabel(\"Frecuencia\")\n",
    "plt.title(\"Distribución de eventos por usuario en grupos A y B para experimento interface_eu_test\")\n",
    "plt.legend()\n",
    "plt.show()"
   ]
  },
  {
   "cell_type": "code",
   "execution_count": 62,
   "id": "cdcb7d50-14ee-4b3d-baae-fe2c04edd7b4",
   "metadata": {},
   "outputs": [
    {
     "data": {
      "image/png": "[encoded data removed]",
      "text/plain": [
       "<Figure size 800x600 with 1 Axes>"
      ]
     },
     "metadata": {},
     "output_type": "display_data"
    }
   ],
   "source": [
    "# Visualización con boxplots por grupo para el experimento interface_eu_test\n",
    "plt.figure(figsize=(8, 6))\n",
    "sns.boxplot(x=experiment_interface_eu['group'], y=experiment_interface_eu['event_count'])\n",
    "plt.xlabel(\"Grupo\")\n",
    "plt.ylabel(\"Número de eventos por usuario\")\n",
    "plt.title(\"Distribución de eventos por usuario en grupos A y B en experimento interface_eu_test\")\n",
    "plt.ylim(0, experiment_interface_eu[\"event_count\"].quantile(0.99))  # Limita los valores extremos para mejor visualización\n",
    "plt.show()"
   ]
  },
  {
   "cell_type": "markdown",
   "id": "86177fad-a971-4eb0-9d0c-af5484fc0ff7",
   "metadata": {},
   "source": [
    "<div style=\"background-color: lightblue; padding: 10px; border-radius: 5px;\">\n",
    "La distribución de eventos por usuario en los grupos A y B del experimento interface_eu_test es similar, tanto en el histograma como en el boxplot, con medias y frecuencias comparables. "
   ]
  },
  {
   "cell_type": "markdown",
   "id": "f3e277e4-74e7-4202-bf72-2c3414263666",
   "metadata": {},
   "source": [
    "Explicamos la comparación entre los grupos de ambos experimentos."
   ]
  },
  {
   "cell_type": "markdown",
   "id": "a13a4b46-5677-47a4-a493-8e75406d7e61",
   "metadata": {},
   "source": [
    "<div style=\"background-color: lightblue; padding: 10px; border-radius: 5px;\">\n",
    "El número de eventos por usuario no está distribuido equitativamente entre las muestras. Aunque la distribución es más equilibrada en el grupo interface_eu_test, en el grupo recommender_system_test hay un desequilibrio notable, con una mayor concentración de eventos en el subgrupo A y una cantidad mucho menor en el subgrupo B. Esto podría indicar un sesgo en la asignación de eventos o una diferencia en el comportamiento de los usuarios entre los subgrupos."
   ]
  },
  {
   "cell_type": "markdown",
   "id": "2ab7f0a6-2212-4f09-89c3-60baf60d485d",
   "metadata": {},
   "source": [
    "#### Estudiaremos la conversión en las diferentes etapas del embudo."
   ]
  },
  {
   "cell_type": "code",
   "execution_count": 67,
   "id": "f32cefdf-a9a2-442d-9ab1-dada21780c3a",
   "metadata": {},
   "outputs": [
    {
     "data": {
      "text/html": [
       "<div>\n",
       "<style scoped>\n",
       "    .dataframe tbody tr th:only-of-type {\n",
       "        vertical-align: middle;\n",
       "    }\n",
       "\n",
       "    .dataframe tbody tr th {\n",
       "        vertical-align: top;\n",
       "    }\n",
       "\n",
       "    .dataframe thead th {\n",
       "        text-align: right;\n",
       "    }\n",
       "</style>\n",
       "<table border=\"1\" class=\"dataframe\">\n",
       "  <thead>\n",
       "    <tr style=\"text-align: right;\">\n",
       "      <th></th>\n",
       "      <th>user_id</th>\n",
       "      <th>group</th>\n",
       "      <th>ab_test</th>\n",
       "      <th>first_date</th>\n",
       "      <th>event_dt</th>\n",
       "      <th>event_name</th>\n",
       "      <th>details</th>\n",
       "    </tr>\n",
       "  </thead>\n",
       "  <tbody>\n",
       "    <tr>\n",
       "      <th>85918</th>\n",
       "      <td>272928E46E4721AD</td>\n",
       "      <td>A</td>\n",
       "      <td>interface_eu_test</td>\n",
       "      <td>2020-12-17</td>\n",
       "      <td>2020-12-24</td>\n",
       "      <td>login</td>\n",
       "      <td>NaN</td>\n",
       "    </tr>\n",
       "    <tr>\n",
       "      <th>94905</th>\n",
       "      <td>02859E26F96B564C</td>\n",
       "      <td>A</td>\n",
       "      <td>interface_eu_test</td>\n",
       "      <td>2020-12-20</td>\n",
       "      <td>2020-12-23</td>\n",
       "      <td>login</td>\n",
       "      <td>NaN</td>\n",
       "    </tr>\n",
       "    <tr>\n",
       "      <th>79382</th>\n",
       "      <td>642E0822CA3627CB</td>\n",
       "      <td>B</td>\n",
       "      <td>interface_eu_test</td>\n",
       "      <td>2020-12-15</td>\n",
       "      <td>2020-12-15</td>\n",
       "      <td>product_cart</td>\n",
       "      <td>NaN</td>\n",
       "    </tr>\n",
       "    <tr>\n",
       "      <th>59638</th>\n",
       "      <td>5D4EA9BF9BA19AE3</td>\n",
       "      <td>A</td>\n",
       "      <td>interface_eu_test</td>\n",
       "      <td>2020-12-12</td>\n",
       "      <td>2020-12-22</td>\n",
       "      <td>product_cart</td>\n",
       "      <td>NaN</td>\n",
       "    </tr>\n",
       "    <tr>\n",
       "      <th>12668</th>\n",
       "      <td>6A2F87E0CD728315</td>\n",
       "      <td>A</td>\n",
       "      <td>recommender_system_test</td>\n",
       "      <td>2020-12-20</td>\n",
       "      <td>2020-12-20</td>\n",
       "      <td>purchase</td>\n",
       "      <td>4.99</td>\n",
       "    </tr>\n",
       "  </tbody>\n",
       "</table>\n",
       "</div>"
      ],
      "text/plain": [
       "                user_id group                  ab_test first_date   event_dt  \\\n",
       "85918  272928E46E4721AD     A        interface_eu_test 2020-12-17 2020-12-24   \n",
       "94905  02859E26F96B564C     A        interface_eu_test 2020-12-20 2020-12-23   \n",
       "79382  642E0822CA3627CB     B        interface_eu_test 2020-12-15 2020-12-15   \n",
       "59638  5D4EA9BF9BA19AE3     A        interface_eu_test 2020-12-12 2020-12-22   \n",
       "12668  6A2F87E0CD728315     A  recommender_system_test 2020-12-20 2020-12-20   \n",
       "\n",
       "         event_name  details  \n",
       "85918         login      NaN  \n",
       "94905         login      NaN  \n",
       "79382  product_cart      NaN  \n",
       "59638  product_cart      NaN  \n",
       "12668      purchase     4.99  "
      ]
     },
     "execution_count": 67,
     "metadata": {},
     "output_type": "execute_result"
    }
   ],
   "source": [
    "# Definimos el orden de los eventos para el funnel de conversión, \n",
    "# de forma que cada evento se registre en una secuencia específica\n",
    "event_order = ['login', 'product_page', 'product_cart', 'purchase']\n",
    "\n",
    "# Convertimos la columna 'event_name' en una variable categórica con el orden definido en \n",
    "#'event_order' para asegurar que los eventos sean ordenados de manera correcta durante el análisis.\n",
    "events_clean['event_name'] = pd.Categorical(events_clean['event_name'], \n",
    "                                            categories=event_order, ordered=True)\n",
    "\n",
    "# Ordenamos los datos por 'ab_test', 'group', 'user_id' y 'event_name' \n",
    "# para organizar los eventos de manera cronológica por usuario y grupo\n",
    "events_clean = events_clean.sort_values(['ab_test', 'group', 'user_id', 'event_name'])\n",
    "events_clean.sample(5)"
   ]
  },
  {
   "cell_type": "code",
   "execution_count": 68,
   "id": "483dc9dd-a873-4e09-b6a3-aa08719518e3",
   "metadata": {},
   "outputs": [
    {
     "data": {
      "text/html": [
       "<div>\n",
       "<style scoped>\n",
       "    .dataframe tbody tr th:only-of-type {\n",
       "        vertical-align: middle;\n",
       "    }\n",
       "\n",
       "    .dataframe tbody tr th {\n",
       "        vertical-align: top;\n",
       "    }\n",
       "\n",
       "    .dataframe thead th {\n",
       "        text-align: right;\n",
       "    }\n",
       "</style>\n",
       "<table border=\"1\" class=\"dataframe\">\n",
       "  <thead>\n",
       "    <tr style=\"text-align: right;\">\n",
       "      <th></th>\n",
       "      <th>ab_test</th>\n",
       "      <th>group</th>\n",
       "      <th>event_name</th>\n",
       "      <th>count</th>\n",
       "    </tr>\n",
       "  </thead>\n",
       "  <tbody>\n",
       "    <tr>\n",
       "      <th>0</th>\n",
       "      <td>interface_eu_test</td>\n",
       "      <td>A</td>\n",
       "      <td>login</td>\n",
       "      <td>16290</td>\n",
       "    </tr>\n",
       "    <tr>\n",
       "      <th>1</th>\n",
       "      <td>interface_eu_test</td>\n",
       "      <td>A</td>\n",
       "      <td>product_page</td>\n",
       "      <td>10839</td>\n",
       "    </tr>\n",
       "    <tr>\n",
       "      <th>2</th>\n",
       "      <td>interface_eu_test</td>\n",
       "      <td>A</td>\n",
       "      <td>product_cart</td>\n",
       "      <td>5284</td>\n",
       "    </tr>\n",
       "    <tr>\n",
       "      <th>3</th>\n",
       "      <td>interface_eu_test</td>\n",
       "      <td>A</td>\n",
       "      <td>purchase</td>\n",
       "      <td>5825</td>\n",
       "    </tr>\n",
       "    <tr>\n",
       "      <th>4</th>\n",
       "      <td>interface_eu_test</td>\n",
       "      <td>B</td>\n",
       "      <td>login</td>\n",
       "      <td>14980</td>\n",
       "    </tr>\n",
       "    <tr>\n",
       "      <th>5</th>\n",
       "      <td>interface_eu_test</td>\n",
       "      <td>B</td>\n",
       "      <td>product_page</td>\n",
       "      <td>9811</td>\n",
       "    </tr>\n",
       "    <tr>\n",
       "      <th>6</th>\n",
       "      <td>interface_eu_test</td>\n",
       "      <td>B</td>\n",
       "      <td>product_cart</td>\n",
       "      <td>5093</td>\n",
       "    </tr>\n",
       "    <tr>\n",
       "      <th>7</th>\n",
       "      <td>interface_eu_test</td>\n",
       "      <td>B</td>\n",
       "      <td>purchase</td>\n",
       "      <td>5012</td>\n",
       "    </tr>\n",
       "    <tr>\n",
       "      <th>8</th>\n",
       "      <td>recommender_system_test</td>\n",
       "      <td>A</td>\n",
       "      <td>login</td>\n",
       "      <td>7204</td>\n",
       "    </tr>\n",
       "    <tr>\n",
       "      <th>9</th>\n",
       "      <td>recommender_system_test</td>\n",
       "      <td>A</td>\n",
       "      <td>product_page</td>\n",
       "      <td>4640</td>\n",
       "    </tr>\n",
       "    <tr>\n",
       "      <th>10</th>\n",
       "      <td>recommender_system_test</td>\n",
       "      <td>A</td>\n",
       "      <td>product_cart</td>\n",
       "      <td>2184</td>\n",
       "    </tr>\n",
       "    <tr>\n",
       "      <th>11</th>\n",
       "      <td>recommender_system_test</td>\n",
       "      <td>A</td>\n",
       "      <td>purchase</td>\n",
       "      <td>2233</td>\n",
       "    </tr>\n",
       "    <tr>\n",
       "      <th>12</th>\n",
       "      <td>recommender_system_test</td>\n",
       "      <td>B</td>\n",
       "      <td>login</td>\n",
       "      <td>1847</td>\n",
       "    </tr>\n",
       "    <tr>\n",
       "      <th>13</th>\n",
       "      <td>recommender_system_test</td>\n",
       "      <td>B</td>\n",
       "      <td>product_page</td>\n",
       "      <td>977</td>\n",
       "    </tr>\n",
       "    <tr>\n",
       "      <th>14</th>\n",
       "      <td>recommender_system_test</td>\n",
       "      <td>B</td>\n",
       "      <td>product_cart</td>\n",
       "      <td>507</td>\n",
       "    </tr>\n",
       "    <tr>\n",
       "      <th>15</th>\n",
       "      <td>recommender_system_test</td>\n",
       "      <td>B</td>\n",
       "      <td>purchase</td>\n",
       "      <td>476</td>\n",
       "    </tr>\n",
       "  </tbody>\n",
       "</table>\n",
       "</div>"
      ],
      "text/plain": [
       "                    ab_test group    event_name  count\n",
       "0         interface_eu_test     A         login  16290\n",
       "1         interface_eu_test     A  product_page  10839\n",
       "2         interface_eu_test     A  product_cart   5284\n",
       "3         interface_eu_test     A      purchase   5825\n",
       "4         interface_eu_test     B         login  14980\n",
       "5         interface_eu_test     B  product_page   9811\n",
       "6         interface_eu_test     B  product_cart   5093\n",
       "7         interface_eu_test     B      purchase   5012\n",
       "8   recommender_system_test     A         login   7204\n",
       "9   recommender_system_test     A  product_page   4640\n",
       "10  recommender_system_test     A  product_cart   2184\n",
       "11  recommender_system_test     A      purchase   2233\n",
       "12  recommender_system_test     B         login   1847\n",
       "13  recommender_system_test     B  product_page    977\n",
       "14  recommender_system_test     B  product_cart    507\n",
       "15  recommender_system_test     B      purchase    476"
      ]
     },
     "execution_count": 68,
     "metadata": {},
     "output_type": "execute_result"
    }
   ],
   "source": [
    "# Agrupamos los datos para contar la cantidad de eventos en cada grupo de experimento \n",
    "# y cada tipo de evento\n",
    "#funnel = events_clean.groupby(['ab_test', 'group', 'event_name']).size().reset_index(name='count')\n",
    "funnel = events_clean.groupby(['ab_test', 'group', 'event_name'], observed=False\n",
    "                             ).size().reset_index(name='count')\n",
    "\n",
    "funnel"
   ]
  },
  {
   "cell_type": "code",
   "execution_count": 69,
   "id": "e0145562-6b1c-4e6d-9dbe-aa174d802488",
   "metadata": {},
   "outputs": [
    {
     "name": "stderr",
     "output_type": "stream",
     "text": [
      "C:\\Users\\rachel\\AppData\\Local\\Temp\\ipykernel_1612\\2722100715.py:3: FutureWarning: The default value of observed=False is deprecated and will change to observed=True in a future version of pandas. Specify observed=False to silence this warning and retain the current behavior\n",
      "  funnel_pivot = funnel.pivot_table(index=['ab_test', 'group'], columns='event_name',\n"
     ]
    },
    {
     "data": {
      "text/html": [
       "<div>\n",
       "<style scoped>\n",
       "    .dataframe tbody tr th:only-of-type {\n",
       "        vertical-align: middle;\n",
       "    }\n",
       "\n",
       "    .dataframe tbody tr th {\n",
       "        vertical-align: top;\n",
       "    }\n",
       "\n",
       "    .dataframe thead th {\n",
       "        text-align: right;\n",
       "    }\n",
       "</style>\n",
       "<table border=\"1\" class=\"dataframe\">\n",
       "  <thead>\n",
       "    <tr style=\"text-align: right;\">\n",
       "      <th></th>\n",
       "      <th>event_name</th>\n",
       "      <th>login</th>\n",
       "      <th>product_page</th>\n",
       "      <th>product_cart</th>\n",
       "      <th>purchase</th>\n",
       "    </tr>\n",
       "    <tr>\n",
       "      <th>ab_test</th>\n",
       "      <th>group</th>\n",
       "      <th></th>\n",
       "      <th></th>\n",
       "      <th></th>\n",
       "      <th></th>\n",
       "    </tr>\n",
       "  </thead>\n",
       "  <tbody>\n",
       "    <tr>\n",
       "      <th rowspan=\"2\" valign=\"top\">interface_eu_test</th>\n",
       "      <th>A</th>\n",
       "      <td>16290.0</td>\n",
       "      <td>10839.0</td>\n",
       "      <td>5284.0</td>\n",
       "      <td>5825.0</td>\n",
       "    </tr>\n",
       "    <tr>\n",
       "      <th>B</th>\n",
       "      <td>14980.0</td>\n",
       "      <td>9811.0</td>\n",
       "      <td>5093.0</td>\n",
       "      <td>5012.0</td>\n",
       "    </tr>\n",
       "    <tr>\n",
       "      <th rowspan=\"2\" valign=\"top\">recommender_system_test</th>\n",
       "      <th>A</th>\n",
       "      <td>7204.0</td>\n",
       "      <td>4640.0</td>\n",
       "      <td>2184.0</td>\n",
       "      <td>2233.0</td>\n",
       "    </tr>\n",
       "    <tr>\n",
       "      <th>B</th>\n",
       "      <td>1847.0</td>\n",
       "      <td>977.0</td>\n",
       "      <td>507.0</td>\n",
       "      <td>476.0</td>\n",
       "    </tr>\n",
       "  </tbody>\n",
       "</table>\n",
       "</div>"
      ],
      "text/plain": [
       "event_name                       login  product_page  product_cart  purchase\n",
       "ab_test                 group                                               \n",
       "interface_eu_test       A      16290.0       10839.0        5284.0    5825.0\n",
       "                        B      14980.0        9811.0        5093.0    5012.0\n",
       "recommender_system_test A       7204.0        4640.0        2184.0    2233.0\n",
       "                        B       1847.0         977.0         507.0     476.0"
      ]
     },
     "execution_count": 69,
     "metadata": {},
     "output_type": "execute_result"
    }
   ],
   "source": [
    "# Pivoteamos la tabla para tener los eventos como columnas, cada fila corresponde a un grupo de \n",
    "# experimento y los valores son los conteos de eventos, se rellena con 0 los eventos ausentes.\n",
    "funnel_pivot = funnel.pivot_table(index=['ab_test', 'group'], columns='event_name', \n",
    "                                  values='count', fill_value=0)\n",
    "funnel_pivot"
   ]
  },
  {
   "cell_type": "markdown",
   "id": "430e6bfb-033d-4e4b-be7a-bf3099f95419",
   "metadata": {},
   "source": [
    "<div style=\"background-color: lightblue; padding: 10px; border-radius: 5px;\">\n",
    "Se observa una diferencia importante en la cantidad de interacciones entre los grupos de cada prueba. Sin embargo, en el caso del recommender_system_test, que es el principal enfoque de este análisis, hay una diferencia notable entre el grupo de control (A) y el grupo B. Esto podría deberse a una distribución desigual de los usuarios entre los grupos, lo que afecta los resultados. Además, en el grupo de control (A), es evidente que el evento purchase tiene más interacciones que el evento product_cart. Esto podría sugerir que los usuarios, al navegar por la página de producto (product_page), se dirigen directamente a la compra sin pasar por el carrito de compras, lo que es un comportamiento común en ciertos contextos de compra en línea."
   ]
  },
  {
   "cell_type": "code",
   "execution_count": 71,
   "id": "ca89bfa2-f878-4723-acf5-b58a4043df2b",
   "metadata": {},
   "outputs": [
    {
     "data": {
      "text/html": [
       "<div>\n",
       "<style scoped>\n",
       "    .dataframe tbody tr th:only-of-type {\n",
       "        vertical-align: middle;\n",
       "    }\n",
       "\n",
       "    .dataframe tbody tr th {\n",
       "        vertical-align: top;\n",
       "    }\n",
       "\n",
       "    .dataframe thead th {\n",
       "        text-align: right;\n",
       "    }\n",
       "</style>\n",
       "<table border=\"1\" class=\"dataframe\">\n",
       "  <thead>\n",
       "    <tr style=\"text-align: right;\">\n",
       "      <th>event_name</th>\n",
       "      <th>ab_test</th>\n",
       "      <th>group</th>\n",
       "      <th>login</th>\n",
       "      <th>product_page</th>\n",
       "      <th>product_cart</th>\n",
       "      <th>purchase</th>\n",
       "      <th>login_to_product_page %</th>\n",
       "      <th>product_page_to_product_cart %</th>\n",
       "      <th>product_cart_to_purchase %</th>\n",
       "    </tr>\n",
       "  </thead>\n",
       "  <tbody>\n",
       "    <tr>\n",
       "      <th>0</th>\n",
       "      <td>interface_eu_test</td>\n",
       "      <td>A</td>\n",
       "      <td>16290.0</td>\n",
       "      <td>10839.0</td>\n",
       "      <td>5284.0</td>\n",
       "      <td>5825.0</td>\n",
       "      <td>66.54</td>\n",
       "      <td>48.75</td>\n",
       "      <td>110.24</td>\n",
       "    </tr>\n",
       "    <tr>\n",
       "      <th>1</th>\n",
       "      <td>interface_eu_test</td>\n",
       "      <td>B</td>\n",
       "      <td>14980.0</td>\n",
       "      <td>9811.0</td>\n",
       "      <td>5093.0</td>\n",
       "      <td>5012.0</td>\n",
       "      <td>65.49</td>\n",
       "      <td>51.91</td>\n",
       "      <td>98.41</td>\n",
       "    </tr>\n",
       "    <tr>\n",
       "      <th>2</th>\n",
       "      <td>recommender_system_test</td>\n",
       "      <td>A</td>\n",
       "      <td>7204.0</td>\n",
       "      <td>4640.0</td>\n",
       "      <td>2184.0</td>\n",
       "      <td>2233.0</td>\n",
       "      <td>64.41</td>\n",
       "      <td>47.07</td>\n",
       "      <td>102.24</td>\n",
       "    </tr>\n",
       "    <tr>\n",
       "      <th>3</th>\n",
       "      <td>recommender_system_test</td>\n",
       "      <td>B</td>\n",
       "      <td>1847.0</td>\n",
       "      <td>977.0</td>\n",
       "      <td>507.0</td>\n",
       "      <td>476.0</td>\n",
       "      <td>52.90</td>\n",
       "      <td>51.89</td>\n",
       "      <td>93.89</td>\n",
       "    </tr>\n",
       "  </tbody>\n",
       "</table>\n",
       "</div>"
      ],
      "text/plain": [
       "event_name                  ab_test group    login  product_page  \\\n",
       "0                 interface_eu_test     A  16290.0       10839.0   \n",
       "1                 interface_eu_test     B  14980.0        9811.0   \n",
       "2           recommender_system_test     A   7204.0        4640.0   \n",
       "3           recommender_system_test     B   1847.0         977.0   \n",
       "\n",
       "event_name  product_cart  purchase  login_to_product_page %  \\\n",
       "0                 5284.0    5825.0                    66.54   \n",
       "1                 5093.0    5012.0                    65.49   \n",
       "2                 2184.0    2233.0                    64.41   \n",
       "3                  507.0     476.0                    52.90   \n",
       "\n",
       "event_name  product_page_to_product_cart %  product_cart_to_purchase %  \n",
       "0                                    48.75                      110.24  \n",
       "1                                    51.91                       98.41  \n",
       "2                                    47.07                      102.24  \n",
       "3                                    51.89                       93.89  "
      ]
     },
     "execution_count": 71,
     "metadata": {},
     "output_type": "execute_result"
    }
   ],
   "source": [
    "# Calculamos el porcentaje de conversión respecto al evento anterior\n",
    "funnel_pivot['login_to_product_page %'] = ((funnel_pivot['product_page'] / funnel_pivot['login']) * 100).round(2)\n",
    "funnel_pivot['product_page_to_product_cart %'] = ((funnel_pivot['product_cart'] / funnel_pivot['product_page']) * 100).round(2)\n",
    "funnel_pivot['product_cart_to_purchase %'] = ((funnel_pivot['purchase'] / funnel_pivot['product_cart']) * 100).round(2)\n",
    "\n",
    "# Reseteamos el índice para tener una tabla limpia\n",
    "funnel_pivot = funnel_pivot.reset_index()\n",
    "\n",
    "funnel_pivot"
   ]
  },
  {
   "cell_type": "markdown",
   "id": "e86cc07b-6e0f-437e-a893-c6964099c24a",
   "metadata": {},
   "source": [
    "<div style=\"background-color: lightblue; padding: 10px; border-radius: 5px;\">\n",
    "Los porcentajes de conversión entre eventos muestran lo siguiente:\n",
    "En interface_eu_test, el grupo A tiene una conversión del 66.54% de login a product_page, 48.75% de product_page a product_cart, y 110.24% de product_cart a purchase, lo que podría indicar compras repetidas. El grupo B muestra una conversión más baja en todas las etapas, excepto product_page_to_product_cart.\n",
    "    \n",
    "En recommender_system_test, el grupo A muestra 64.41% de conversión de login a product_page, 47.07% de product_page_to_product_cart y 102.24% de product_cart a purchase. El grupo B tiene una conversión más baja en todas las etapas excepto en product_page_to_product_cart. Esta mayor conversión en el paso de agregar al carrito, puede sugerir que sistema de recomendación funciona.\n"
   ]
  },
  {
   "cell_type": "markdown",
   "id": "f69cca84-362c-423b-ada8-6c7df5430dfe",
   "metadata": {},
   "source": [
    "Generamos las gráficas para obtener una mejor visión de la información anterior.\n"
   ]
  },
  {
   "cell_type": "code",
   "execution_count": 74,
   "id": "cb5694a7-47b1-4b58-8dfb-654a047ba598",
   "metadata": {},
   "outputs": [
    {
     "data": {
      "image/png": "[encoded data removed]",
      "text/plain": [
       "<Figure size 1000x600 with 1 Axes>"
      ]
     },
     "metadata": {},
     "output_type": "display_data"
    }
   ],
   "source": [
    "# Gráfica del funnel de conversión por grupo y experimento\n",
    "\n",
    "sns.set(style=\"whitegrid\")\n",
    "fig, ax = plt.subplots(figsize=(10, 6))\n",
    "\n",
    "# Definimos los pasos del funnel\n",
    "steps = ['login', 'product_page', 'product_cart', 'purchase']\n",
    "\n",
    "# Iteramos sobre cada grupo y experimento para graficar\n",
    "for group in funnel_pivot['group'].unique():\n",
    "    for ab_test in funnel_pivot['ab_test'].unique():\n",
    "        # Filtramos los datos para el grupo y experimento actual\n",
    "        data = funnel_pivot[(funnel_pivot['group'] == group) & (funnel_pivot['ab_test'] == ab_test)]\n",
    "        \n",
    "        # Obtenemos los conteos de eventos\n",
    "        counts = data[steps].values.flatten()\n",
    "        \n",
    "        # Graficamos el funnel\n",
    "        sns.lineplot(x=steps, y=counts, marker='o', label=f'{ab_test} - {group}', ax=ax)\n",
    "\n",
    "# Añadimos etiquetas y título\n",
    "ax.set_title('Funnel de conversión por grupo y experimento', fontsize=16)\n",
    "ax.set_xlabel('Eventos', fontsize=12)\n",
    "ax.set_ylabel('Número de usuarios', fontsize=12)\n",
    "ax.legend(title='Grupo y Experimento', bbox_to_anchor=(1.05, 1), loc='upper left')\n",
    "plt.xticks(rotation=45)\n",
    "plt.tight_layout()\n",
    "plt.show()"
   ]
  },
  {
   "cell_type": "markdown",
   "id": "00920a0e-80e1-4db4-a341-11fc859220c5",
   "metadata": {},
   "source": [
    "<div style=\"background-color: lightblue; padding: 10px; border-radius: 5px;\">\n",
    "Análsis de números absolutos:\n",
    "\n",
    "    \n",
    "Entre los grupos del experimento interface_eu_test no se observa una diferencia tan notable, aunque sí se percibe una caída en los eventos a medida que avanzan las etapas. Sin embargo, en el grupo A, el número de interacciones aumenta al llegar al evento purchase.\n",
    "\n",
    "En el recommender_system_test, que es el experimento principal para este análisis, se observa una diferencia más marcada entre los grupos. En ambos grupos, se nota una disminución en el número de eventos a medida que avanzan en las etapas. Sin embargo, en el grupo B, la pérdida de eventos entre product_page y product_cart es menor, mientras que en el grupo A, la conversión de product_cart a purchase es más alta. Estas diferencias podrían estar relacionadas con la distribución desigual de usuarios entre los grupos, como se mencionó anteriormente."
   ]
  },
  {
   "cell_type": "markdown",
   "id": "0b8b8b2b-1bcb-4367-8403-0baf5b9a9c6a",
   "metadata": {},
   "source": [
    "#### ¿Cómo se distribuye el número de eventos entre los días?"
   ]
  },
  {
   "cell_type": "code",
   "execution_count": 77,
   "id": "2f497794-61ca-49f3-96e8-d94a23f5db24",
   "metadata": {},
   "outputs": [
    {
     "name": "stderr",
     "output_type": "stream",
     "text": [
      "C:\\Users\\rachel\\AppData\\Local\\Temp\\ipykernel_1612\\4198163150.py:2: FutureWarning: The default of observed=False is deprecated and will be changed to True in a future version of pandas. Pass observed=False to retain current behavior or observed=True to adopt the future default and silence this warning.\n",
      "  funnel_with_date = events_clean.groupby(['ab_test', 'group', 'event_name', 'event_dt']).size().reset_index(name='count')\n"
     ]
    },
    {
     "data": {
      "text/html": [
       "<div>\n",
       "<style scoped>\n",
       "    .dataframe tbody tr th:only-of-type {\n",
       "        vertical-align: middle;\n",
       "    }\n",
       "\n",
       "    .dataframe tbody tr th {\n",
       "        vertical-align: top;\n",
       "    }\n",
       "\n",
       "    .dataframe thead th {\n",
       "        text-align: right;\n",
       "    }\n",
       "</style>\n",
       "<table border=\"1\" class=\"dataframe\">\n",
       "  <thead>\n",
       "    <tr style=\"text-align: right;\">\n",
       "      <th></th>\n",
       "      <th>ab_test</th>\n",
       "      <th>group</th>\n",
       "      <th>event_name</th>\n",
       "      <th>event_dt</th>\n",
       "      <th>count</th>\n",
       "    </tr>\n",
       "  </thead>\n",
       "  <tbody>\n",
       "    <tr>\n",
       "      <th>256</th>\n",
       "      <td>recommender_system_test</td>\n",
       "      <td>A</td>\n",
       "      <td>purchase</td>\n",
       "      <td>2020-12-21</td>\n",
       "      <td>263</td>\n",
       "    </tr>\n",
       "    <tr>\n",
       "      <th>88</th>\n",
       "      <td>interface_eu_test</td>\n",
       "      <td>B</td>\n",
       "      <td>login</td>\n",
       "      <td>2020-12-07</td>\n",
       "      <td>403</td>\n",
       "    </tr>\n",
       "    <tr>\n",
       "      <th>283</th>\n",
       "      <td>recommender_system_test</td>\n",
       "      <td>B</td>\n",
       "      <td>login</td>\n",
       "      <td>2020-12-27</td>\n",
       "      <td>28</td>\n",
       "    </tr>\n",
       "    <tr>\n",
       "      <th>16</th>\n",
       "      <td>interface_eu_test</td>\n",
       "      <td>A</td>\n",
       "      <td>login</td>\n",
       "      <td>2020-12-23</td>\n",
       "      <td>991</td>\n",
       "    </tr>\n",
       "    <tr>\n",
       "      <th>5</th>\n",
       "      <td>interface_eu_test</td>\n",
       "      <td>A</td>\n",
       "      <td>login</td>\n",
       "      <td>2020-12-12</td>\n",
       "      <td>759</td>\n",
       "    </tr>\n",
       "  </tbody>\n",
       "</table>\n",
       "</div>"
      ],
      "text/plain": [
       "                     ab_test group event_name   event_dt  count\n",
       "256  recommender_system_test     A   purchase 2020-12-21    263\n",
       "88         interface_eu_test     B      login 2020-12-07    403\n",
       "283  recommender_system_test     B      login 2020-12-27     28\n",
       "16         interface_eu_test     A      login 2020-12-23    991\n",
       "5          interface_eu_test     A      login 2020-12-12    759"
      ]
     },
     "execution_count": 77,
     "metadata": {},
     "output_type": "execute_result"
    }
   ],
   "source": [
    "# Agrupamos por experimento, grupo, evento y fecha, y contamos la cantidad de eventos\n",
    "funnel_with_date = events_clean.groupby(['ab_test', 'group', 'event_name', 'event_dt']).size().reset_index(name='count')\n",
    "funnel_with_date.sample(5)"
   ]
  },
  {
   "cell_type": "code",
   "execution_count": 78,
   "id": "de921323-d725-4ee7-bcbc-4bd00b01a3a9",
   "metadata": {},
   "outputs": [
    {
     "name": "stderr",
     "output_type": "stream",
     "text": [
      "C:\\Users\\rachel\\AppData\\Local\\Temp\\ipykernel_1612\\3396561521.py:2: FutureWarning: The default value of observed=False is deprecated and will change to observed=True in a future version of pandas. Specify observed=False to silence this warning and retain the current behavior\n",
      "  funnel_with_date_pivot = funnel_with_date.pivot_table(index=['ab_test', 'group', 'event_dt'], columns='event_name', values='count', fill_value=0)\n"
     ]
    },
    {
     "data": {
      "text/html": [
       "<div>\n",
       "<style scoped>\n",
       "    .dataframe tbody tr th:only-of-type {\n",
       "        vertical-align: middle;\n",
       "    }\n",
       "\n",
       "    .dataframe tbody tr th {\n",
       "        vertical-align: top;\n",
       "    }\n",
       "\n",
       "    .dataframe thead th {\n",
       "        text-align: right;\n",
       "    }\n",
       "</style>\n",
       "<table border=\"1\" class=\"dataframe\">\n",
       "  <thead>\n",
       "    <tr style=\"text-align: right;\">\n",
       "      <th></th>\n",
       "      <th></th>\n",
       "      <th>event_name</th>\n",
       "      <th>login</th>\n",
       "      <th>product_page</th>\n",
       "      <th>product_cart</th>\n",
       "      <th>purchase</th>\n",
       "    </tr>\n",
       "    <tr>\n",
       "      <th>ab_test</th>\n",
       "      <th>group</th>\n",
       "      <th>event_dt</th>\n",
       "      <th></th>\n",
       "      <th></th>\n",
       "      <th></th>\n",
       "      <th></th>\n",
       "    </tr>\n",
       "  </thead>\n",
       "  <tbody>\n",
       "    <tr>\n",
       "      <th rowspan=\"5\" valign=\"top\">interface_eu_test</th>\n",
       "      <th rowspan=\"5\" valign=\"top\">A</th>\n",
       "      <th>2020-12-07</th>\n",
       "      <td>433.0</td>\n",
       "      <td>291.0</td>\n",
       "      <td>125.0</td>\n",
       "      <td>148.0</td>\n",
       "    </tr>\n",
       "    <tr>\n",
       "      <th>2020-12-08</th>\n",
       "      <td>480.0</td>\n",
       "      <td>331.0</td>\n",
       "      <td>138.0</td>\n",
       "      <td>165.0</td>\n",
       "    </tr>\n",
       "    <tr>\n",
       "      <th>2020-12-09</th>\n",
       "      <td>484.0</td>\n",
       "      <td>326.0</td>\n",
       "      <td>155.0</td>\n",
       "      <td>168.0</td>\n",
       "    </tr>\n",
       "    <tr>\n",
       "      <th>2020-12-10</th>\n",
       "      <td>526.0</td>\n",
       "      <td>355.0</td>\n",
       "      <td>177.0</td>\n",
       "      <td>194.0</td>\n",
       "    </tr>\n",
       "    <tr>\n",
       "      <th>2020-12-11</th>\n",
       "      <td>532.0</td>\n",
       "      <td>365.0</td>\n",
       "      <td>180.0</td>\n",
       "      <td>199.0</td>\n",
       "    </tr>\n",
       "    <tr>\n",
       "      <th>...</th>\n",
       "      <th>...</th>\n",
       "      <th>...</th>\n",
       "      <td>...</td>\n",
       "      <td>...</td>\n",
       "      <td>...</td>\n",
       "      <td>...</td>\n",
       "    </tr>\n",
       "    <tr>\n",
       "      <th rowspan=\"5\" valign=\"top\">recommender_system_test</th>\n",
       "      <th rowspan=\"5\" valign=\"top\">B</th>\n",
       "      <th>2020-12-24</th>\n",
       "      <td>46.0</td>\n",
       "      <td>23.0</td>\n",
       "      <td>14.0</td>\n",
       "      <td>11.0</td>\n",
       "    </tr>\n",
       "    <tr>\n",
       "      <th>2020-12-26</th>\n",
       "      <td>31.0</td>\n",
       "      <td>14.0</td>\n",
       "      <td>5.0</td>\n",
       "      <td>4.0</td>\n",
       "    </tr>\n",
       "    <tr>\n",
       "      <th>2020-12-27</th>\n",
       "      <td>28.0</td>\n",
       "      <td>12.0</td>\n",
       "      <td>9.0</td>\n",
       "      <td>9.0</td>\n",
       "    </tr>\n",
       "    <tr>\n",
       "      <th>2020-12-28</th>\n",
       "      <td>27.0</td>\n",
       "      <td>16.0</td>\n",
       "      <td>4.0</td>\n",
       "      <td>3.0</td>\n",
       "    </tr>\n",
       "    <tr>\n",
       "      <th>2020-12-29</th>\n",
       "      <td>18.0</td>\n",
       "      <td>8.0</td>\n",
       "      <td>2.0</td>\n",
       "      <td>5.0</td>\n",
       "    </tr>\n",
       "  </tbody>\n",
       "</table>\n",
       "<p>88 rows × 4 columns</p>\n",
       "</div>"
      ],
      "text/plain": [
       "event_name                                login  product_page  product_cart  \\\n",
       "ab_test                 group event_dt                                        \n",
       "interface_eu_test       A     2020-12-07  433.0         291.0         125.0   \n",
       "                              2020-12-08  480.0         331.0         138.0   \n",
       "                              2020-12-09  484.0         326.0         155.0   \n",
       "                              2020-12-10  526.0         355.0         177.0   \n",
       "                              2020-12-11  532.0         365.0         180.0   \n",
       "...                                         ...           ...           ...   \n",
       "recommender_system_test B     2020-12-24   46.0          23.0          14.0   \n",
       "                              2020-12-26   31.0          14.0           5.0   \n",
       "                              2020-12-27   28.0          12.0           9.0   \n",
       "                              2020-12-28   27.0          16.0           4.0   \n",
       "                              2020-12-29   18.0           8.0           2.0   \n",
       "\n",
       "event_name                                purchase  \n",
       "ab_test                 group event_dt              \n",
       "interface_eu_test       A     2020-12-07     148.0  \n",
       "                              2020-12-08     165.0  \n",
       "                              2020-12-09     168.0  \n",
       "                              2020-12-10     194.0  \n",
       "                              2020-12-11     199.0  \n",
       "...                                            ...  \n",
       "recommender_system_test B     2020-12-24      11.0  \n",
       "                              2020-12-26       4.0  \n",
       "                              2020-12-27       9.0  \n",
       "                              2020-12-28       3.0  \n",
       "                              2020-12-29       5.0  \n",
       "\n",
       "[88 rows x 4 columns]"
      ]
     },
     "execution_count": 78,
     "metadata": {},
     "output_type": "execute_result"
    }
   ],
   "source": [
    "# Pivoteamos la tabla para tener los eventos como columnas y la fecha como índice\n",
    "funnel_with_date_pivot = funnel_with_date.pivot_table(index=['ab_test', 'group', 'event_dt'], columns='event_name', values='count', fill_value=0)\n",
    "\n",
    "# Reordenamos las columnas según event_order\n",
    "funnel_with_date_pivot = funnel_with_date_pivot[event_order]\n",
    "\n",
    "funnel_with_date_pivot"
   ]
  },
  {
   "cell_type": "code",
   "execution_count": 79,
   "id": "6f934840-56cf-46fc-8342-6fd23e2143bb",
   "metadata": {},
   "outputs": [
    {
     "data": {
      "text/html": [
       "<div>\n",
       "<style scoped>\n",
       "    .dataframe tbody tr th:only-of-type {\n",
       "        vertical-align: middle;\n",
       "    }\n",
       "\n",
       "    .dataframe tbody tr th {\n",
       "        vertical-align: top;\n",
       "    }\n",
       "\n",
       "    .dataframe thead th {\n",
       "        text-align: right;\n",
       "    }\n",
       "</style>\n",
       "<table border=\"1\" class=\"dataframe\">\n",
       "  <thead>\n",
       "    <tr style=\"text-align: right;\">\n",
       "      <th>event_name</th>\n",
       "      <th>ab_test</th>\n",
       "      <th>group</th>\n",
       "      <th>event_dt</th>\n",
       "      <th>login</th>\n",
       "      <th>product_page</th>\n",
       "      <th>product_cart</th>\n",
       "      <th>purchase</th>\n",
       "      <th>login_to_product_page %</th>\n",
       "      <th>product_page_to_product_cart %</th>\n",
       "      <th>product_cart_to_purchase %</th>\n",
       "    </tr>\n",
       "  </thead>\n",
       "  <tbody>\n",
       "    <tr>\n",
       "      <th>0</th>\n",
       "      <td>interface_eu_test</td>\n",
       "      <td>A</td>\n",
       "      <td>2020-12-07</td>\n",
       "      <td>433.0</td>\n",
       "      <td>291.0</td>\n",
       "      <td>125.0</td>\n",
       "      <td>148.0</td>\n",
       "      <td>67.21</td>\n",
       "      <td>42.96</td>\n",
       "      <td>118.40</td>\n",
       "    </tr>\n",
       "    <tr>\n",
       "      <th>1</th>\n",
       "      <td>interface_eu_test</td>\n",
       "      <td>A</td>\n",
       "      <td>2020-12-08</td>\n",
       "      <td>480.0</td>\n",
       "      <td>331.0</td>\n",
       "      <td>138.0</td>\n",
       "      <td>165.0</td>\n",
       "      <td>68.96</td>\n",
       "      <td>41.69</td>\n",
       "      <td>119.57</td>\n",
       "    </tr>\n",
       "    <tr>\n",
       "      <th>2</th>\n",
       "      <td>interface_eu_test</td>\n",
       "      <td>A</td>\n",
       "      <td>2020-12-09</td>\n",
       "      <td>484.0</td>\n",
       "      <td>326.0</td>\n",
       "      <td>155.0</td>\n",
       "      <td>168.0</td>\n",
       "      <td>67.36</td>\n",
       "      <td>47.55</td>\n",
       "      <td>108.39</td>\n",
       "    </tr>\n",
       "    <tr>\n",
       "      <th>3</th>\n",
       "      <td>interface_eu_test</td>\n",
       "      <td>A</td>\n",
       "      <td>2020-12-10</td>\n",
       "      <td>526.0</td>\n",
       "      <td>355.0</td>\n",
       "      <td>177.0</td>\n",
       "      <td>194.0</td>\n",
       "      <td>67.49</td>\n",
       "      <td>49.86</td>\n",
       "      <td>109.60</td>\n",
       "    </tr>\n",
       "    <tr>\n",
       "      <th>4</th>\n",
       "      <td>interface_eu_test</td>\n",
       "      <td>A</td>\n",
       "      <td>2020-12-11</td>\n",
       "      <td>532.0</td>\n",
       "      <td>365.0</td>\n",
       "      <td>180.0</td>\n",
       "      <td>199.0</td>\n",
       "      <td>68.61</td>\n",
       "      <td>49.32</td>\n",
       "      <td>110.56</td>\n",
       "    </tr>\n",
       "    <tr>\n",
       "      <th>...</th>\n",
       "      <td>...</td>\n",
       "      <td>...</td>\n",
       "      <td>...</td>\n",
       "      <td>...</td>\n",
       "      <td>...</td>\n",
       "      <td>...</td>\n",
       "      <td>...</td>\n",
       "      <td>...</td>\n",
       "      <td>...</td>\n",
       "      <td>...</td>\n",
       "    </tr>\n",
       "    <tr>\n",
       "      <th>83</th>\n",
       "      <td>recommender_system_test</td>\n",
       "      <td>B</td>\n",
       "      <td>2020-12-24</td>\n",
       "      <td>46.0</td>\n",
       "      <td>23.0</td>\n",
       "      <td>14.0</td>\n",
       "      <td>11.0</td>\n",
       "      <td>50.00</td>\n",
       "      <td>60.87</td>\n",
       "      <td>78.57</td>\n",
       "    </tr>\n",
       "    <tr>\n",
       "      <th>84</th>\n",
       "      <td>recommender_system_test</td>\n",
       "      <td>B</td>\n",
       "      <td>2020-12-26</td>\n",
       "      <td>31.0</td>\n",
       "      <td>14.0</td>\n",
       "      <td>5.0</td>\n",
       "      <td>4.0</td>\n",
       "      <td>45.16</td>\n",
       "      <td>35.71</td>\n",
       "      <td>80.00</td>\n",
       "    </tr>\n",
       "    <tr>\n",
       "      <th>85</th>\n",
       "      <td>recommender_system_test</td>\n",
       "      <td>B</td>\n",
       "      <td>2020-12-27</td>\n",
       "      <td>28.0</td>\n",
       "      <td>12.0</td>\n",
       "      <td>9.0</td>\n",
       "      <td>9.0</td>\n",
       "      <td>42.86</td>\n",
       "      <td>75.00</td>\n",
       "      <td>100.00</td>\n",
       "    </tr>\n",
       "    <tr>\n",
       "      <th>86</th>\n",
       "      <td>recommender_system_test</td>\n",
       "      <td>B</td>\n",
       "      <td>2020-12-28</td>\n",
       "      <td>27.0</td>\n",
       "      <td>16.0</td>\n",
       "      <td>4.0</td>\n",
       "      <td>3.0</td>\n",
       "      <td>59.26</td>\n",
       "      <td>25.00</td>\n",
       "      <td>75.00</td>\n",
       "    </tr>\n",
       "    <tr>\n",
       "      <th>87</th>\n",
       "      <td>recommender_system_test</td>\n",
       "      <td>B</td>\n",
       "      <td>2020-12-29</td>\n",
       "      <td>18.0</td>\n",
       "      <td>8.0</td>\n",
       "      <td>2.0</td>\n",
       "      <td>5.0</td>\n",
       "      <td>44.44</td>\n",
       "      <td>25.00</td>\n",
       "      <td>250.00</td>\n",
       "    </tr>\n",
       "  </tbody>\n",
       "</table>\n",
       "<p>88 rows × 10 columns</p>\n",
       "</div>"
      ],
      "text/plain": [
       "event_name                  ab_test group   event_dt  login  product_page  \\\n",
       "0                 interface_eu_test     A 2020-12-07  433.0         291.0   \n",
       "1                 interface_eu_test     A 2020-12-08  480.0         331.0   \n",
       "2                 interface_eu_test     A 2020-12-09  484.0         326.0   \n",
       "3                 interface_eu_test     A 2020-12-10  526.0         355.0   \n",
       "4                 interface_eu_test     A 2020-12-11  532.0         365.0   \n",
       "..                              ...   ...        ...    ...           ...   \n",
       "83          recommender_system_test     B 2020-12-24   46.0          23.0   \n",
       "84          recommender_system_test     B 2020-12-26   31.0          14.0   \n",
       "85          recommender_system_test     B 2020-12-27   28.0          12.0   \n",
       "86          recommender_system_test     B 2020-12-28   27.0          16.0   \n",
       "87          recommender_system_test     B 2020-12-29   18.0           8.0   \n",
       "\n",
       "event_name  product_cart  purchase  login_to_product_page %  \\\n",
       "0                  125.0     148.0                    67.21   \n",
       "1                  138.0     165.0                    68.96   \n",
       "2                  155.0     168.0                    67.36   \n",
       "3                  177.0     194.0                    67.49   \n",
       "4                  180.0     199.0                    68.61   \n",
       "..                   ...       ...                      ...   \n",
       "83                  14.0      11.0                    50.00   \n",
       "84                   5.0       4.0                    45.16   \n",
       "85                   9.0       9.0                    42.86   \n",
       "86                   4.0       3.0                    59.26   \n",
       "87                   2.0       5.0                    44.44   \n",
       "\n",
       "event_name  product_page_to_product_cart %  product_cart_to_purchase %  \n",
       "0                                    42.96                      118.40  \n",
       "1                                    41.69                      119.57  \n",
       "2                                    47.55                      108.39  \n",
       "3                                    49.86                      109.60  \n",
       "4                                    49.32                      110.56  \n",
       "..                                     ...                         ...  \n",
       "83                                   60.87                       78.57  \n",
       "84                                   35.71                       80.00  \n",
       "85                                   75.00                      100.00  \n",
       "86                                   25.00                       75.00  \n",
       "87                                   25.00                      250.00  \n",
       "\n",
       "[88 rows x 10 columns]"
      ]
     },
     "execution_count": 79,
     "metadata": {},
     "output_type": "execute_result"
    }
   ],
   "source": [
    "# Calcular el porcentaje de conversión respecto al evento anterior\n",
    "funnel_with_date_pivot['login_to_product_page %'] = ((funnel_with_date_pivot['product_page'] / funnel_with_date_pivot['login']) * 100).round(2)\n",
    "funnel_with_date_pivot['product_page_to_product_cart %'] = ((funnel_with_date_pivot['product_cart'] / funnel_with_date_pivot['product_page']) * 100).round(2)\n",
    "funnel_with_date_pivot['product_cart_to_purchase %'] = ((funnel_with_date_pivot['purchase'] / funnel_with_date_pivot['product_cart']) * 100).round(2)\n",
    "\n",
    "# Reseteamos el índice para tener una tabla limpia\n",
    "funnel_with_date_pivot = funnel_with_date_pivot.reset_index()\n",
    "\n",
    "# Mostramos el resultado final\n",
    "funnel_with_date_pivot.sample(6)\n",
    "funnel_with_date_pivot"
   ]
  },
  {
   "cell_type": "code",
   "execution_count": 80,
   "id": "5b23e5b9-bb2a-4342-93f6-3b20f2e1f0dd",
   "metadata": {},
   "outputs": [
    {
     "name": "stderr",
     "output_type": "stream",
     "text": [
      "C:\\Users\\rachel\\AppData\\Local\\Temp\\ipykernel_1612\\519721918.py:8: FutureWarning: \n",
      "\n",
      "The `ci` parameter is deprecated. Use `errorbar=None` for the same effect.\n",
      "\n",
      "  sns.barplot(data=funnel_long, x='event_dt', y='num_events', hue='event_name',\n"
     ]
    },
    {
     "data": {
      "image/png": "[encoded data removed]",
      "text/plain": [
       "<Figure size 1400x800 with 1 Axes>"
      ]
     },
     "metadata": {},
     "output_type": "display_data"
    }
   ],
   "source": [
    "# Usaremos melt para transformar la tabla de eventos en formato largo\n",
    "funnel_long = funnel_with_date_pivot.melt(id_vars=['ab_test', 'group', 'event_dt'], value_vars=event_order,\n",
    "                                          var_name='event_name', value_name='num_events')\n",
    "\n",
    "# Graficamos las conversiones para cada evento\n",
    "plt.figure(figsize=(14, 8))\n",
    "\n",
    "sns.barplot(data=funnel_long, x='event_dt', y='num_events', hue='event_name', \n",
    "            ci=None, palette='Set2')\n",
    "\n",
    "# Añadimos etiquetas y título\n",
    "plt.title('Distribución de eventos por Fecha', fontsize=16)\n",
    "plt.xlabel('Fecha del Evento', fontsize=14)\n",
    "plt.ylabel('Cantidad de eventos', fontsize=14)\n",
    "plt.xticks(rotation=90)  # Rotar las fechas para mayor claridad\n",
    "plt.legend(title='Evento', loc='upper right')\n",
    "plt.show()"
   ]
  },
  {
   "cell_type": "code",
   "execution_count": 81,
   "id": "4dbb8649-2b8f-4d65-b9aa-0fc1069caded",
   "metadata": {},
   "outputs": [
    {
     "data": {
      "image/png": "[encoded data removed]",
      "text/plain": [
       "<Figure size 1200x500 with 1 Axes>"
      ]
     },
     "metadata": {},
     "output_type": "display_data"
    }
   ],
   "source": [
    "# Distribución de eventos por día: agrupamos los eventos por fecha, contando la cantidad de eventos por cada día.\n",
    "daily_events = events.groupby('event_dt').size()\n",
    "\n",
    "# Graficamos la istribución de eventos por día\n",
    "plt.figure(figsize=(12, 5))\n",
    "sns.lineplot(x=daily_events.index, y=daily_events.values)\n",
    "plt.xlabel('Fecha')\n",
    "plt.ylabel('Número de eventos')\n",
    "plt.title('Distribución de eventos a lo largo del tiempo')\n",
    "plt.xticks(rotation=45)\n",
    "plt.show()"
   ]
  },
  {
   "cell_type": "markdown",
   "id": "4fe010c5-e0df-4cfb-b1a1-9102f6a6973a",
   "metadata": {},
   "source": [
    "<div style=\"background-color: lightblue; padding: 10px; border-radius: 5px;\">\n",
    "Se puede observar cómo el número de eventos aumenta, alcanzando su punto máximo el día 21, que fue el último día en que los usuarios podían registrarse en la tienda en línea. Después de este día, se nota una caída considerable en los eventos. La caída podría deberse al cierre de la oportunidad de registro, lo que reduce la motivación o el interés de los usuarios para seguir interactuando con la tienda en línea."
   ]
  },
  {
   "cell_type": "markdown",
   "id": "95bf35cf-e6c4-4ad9-8295-b1ccdc023a97",
   "metadata": {},
   "source": [
    "Ahora analizaremos la distribución diaria de los eventos en cada experimento."
   ]
  },
  {
   "cell_type": "code",
   "execution_count": 84,
   "id": "f9d39c8d-d3d0-4e4a-abaf-e34007f1f482",
   "metadata": {
    "scrolled": true
   },
   "outputs": [
    {
     "data": {
      "text/html": [
       "<div>\n",
       "<style scoped>\n",
       "    .dataframe tbody tr th:only-of-type {\n",
       "        vertical-align: middle;\n",
       "    }\n",
       "\n",
       "    .dataframe tbody tr th {\n",
       "        vertical-align: top;\n",
       "    }\n",
       "\n",
       "    .dataframe thead th {\n",
       "        text-align: right;\n",
       "    }\n",
       "</style>\n",
       "<table border=\"1\" class=\"dataframe\">\n",
       "  <thead>\n",
       "    <tr style=\"text-align: right;\">\n",
       "      <th></th>\n",
       "      <th>ab_test</th>\n",
       "      <th>group</th>\n",
       "      <th>event_dt</th>\n",
       "      <th>event_name</th>\n",
       "      <th>num_events</th>\n",
       "    </tr>\n",
       "  </thead>\n",
       "  <tbody>\n",
       "    <tr>\n",
       "      <th>148</th>\n",
       "      <td>recommender_system_test</td>\n",
       "      <td>A</td>\n",
       "      <td>2020-12-23</td>\n",
       "      <td>purchase</td>\n",
       "      <td>115.0</td>\n",
       "    </tr>\n",
       "    <tr>\n",
       "      <th>88</th>\n",
       "      <td>recommender_system_test</td>\n",
       "      <td>A</td>\n",
       "      <td>2020-12-07</td>\n",
       "      <td>product_cart</td>\n",
       "      <td>30.0</td>\n",
       "    </tr>\n",
       "    <tr>\n",
       "      <th>123</th>\n",
       "      <td>recommender_system_test</td>\n",
       "      <td>B</td>\n",
       "      <td>2020-12-20</td>\n",
       "      <td>product_cart</td>\n",
       "      <td>27.0</td>\n",
       "    </tr>\n",
       "    <tr>\n",
       "      <th>57</th>\n",
       "      <td>recommender_system_test</td>\n",
       "      <td>A</td>\n",
       "      <td>2020-12-20</td>\n",
       "      <td>product_page</td>\n",
       "      <td>387.0</td>\n",
       "    </tr>\n",
       "    <tr>\n",
       "      <th>82</th>\n",
       "      <td>recommender_system_test</td>\n",
       "      <td>B</td>\n",
       "      <td>2020-12-23</td>\n",
       "      <td>product_page</td>\n",
       "      <td>32.0</td>\n",
       "    </tr>\n",
       "  </tbody>\n",
       "</table>\n",
       "</div>"
      ],
      "text/plain": [
       "                     ab_test group   event_dt    event_name  num_events\n",
       "148  recommender_system_test     A 2020-12-23      purchase       115.0\n",
       "88   recommender_system_test     A 2020-12-07  product_cart        30.0\n",
       "123  recommender_system_test     B 2020-12-20  product_cart        27.0\n",
       "57   recommender_system_test     A 2020-12-20  product_page       387.0\n",
       "82   recommender_system_test     B 2020-12-23  product_page        32.0"
      ]
     },
     "execution_count": 84,
     "metadata": {},
     "output_type": "execute_result"
    }
   ],
   "source": [
    "# Usamos melt para transformar la tabla a formato largo, seleccionando los datos de \n",
    "#'recommender_system_test' y organizando los eventos y conversiones en columnas separadas.\n",
    "funnel_long = funnel_with_date_pivot[funnel_with_date_pivot['ab_test'] == 'recommender_system_test'].melt(id_vars=['ab_test', 'group', 'event_dt'], value_vars=event_order,\n",
    "              var_name='event_name', value_name='num_events')\n",
    "funnel_long.sample(5)"
   ]
  },
  {
   "cell_type": "code",
   "execution_count": 85,
   "id": "c3daf8c5-31bd-42f4-9b2e-37c1e5d78278",
   "metadata": {
    "scrolled": true
   },
   "outputs": [
    {
     "name": "stderr",
     "output_type": "stream",
     "text": [
      "C:\\Users\\rachel\\AppData\\Local\\Temp\\ipykernel_1612\\3412384809.py:3: FutureWarning: \n",
      "\n",
      "The `ci` parameter is deprecated. Use `errorbar=None` for the same effect.\n",
      "\n",
      "  sns.barplot(data=funnel_long, x='event_dt', y='num_events', hue='event_name',\n"
     ]
    },
    {
     "data": {
      "image/png": "[encoded data removed]",
      "text/plain": [
       "<Figure size 1400x800 with 1 Axes>"
      ]
     },
     "metadata": {},
     "output_type": "display_data"
    }
   ],
   "source": [
    "# Graficamos conversiones por Evento y Fecha del experimento recommender_system_test\n",
    "plt.figure(figsize=(14, 8))\n",
    "sns.barplot(data=funnel_long, x='event_dt', y='num_events', hue='event_name', \n",
    "            ci=None, palette='Set2')\n",
    "plt.title('Distribución de eventos por Fecha, experimento recommender_system_test', \n",
    "          fontsize=16)\n",
    "plt.xlabel('Fecha del Evento', fontsize=14)\n",
    "plt.ylabel('Cantidad de eventos', fontsize=14)\n",
    "plt.xticks(rotation=90)  # Rotar las fechas para mayor claridad\n",
    "plt.legend(title='Evento', loc='upper right')\n",
    "plt.show()"
   ]
  },
  {
   "cell_type": "markdown",
   "id": "08502d68-84fc-4d5f-adea-b3f3db2cbff0",
   "metadata": {},
   "source": [
    "<div style=\"background-color: lightblue; padding: 10px; border-radius: 5px;\">\n",
    "En esta gráfica, se nota un incremento relativamente constante particularmente después del 13 de diciembre, seguido de una caída después del 21 de diciembre. Similar a lo que se observa en la gráfica generalizada."
   ]
  },
  {
   "cell_type": "code",
   "execution_count": 87,
   "id": "eb1d3dc6-5881-4ba4-8426-7359cd25921c",
   "metadata": {
    "scrolled": true
   },
   "outputs": [
    {
     "data": {
      "text/html": [
       "<div>\n",
       "<style scoped>\n",
       "    .dataframe tbody tr th:only-of-type {\n",
       "        vertical-align: middle;\n",
       "    }\n",
       "\n",
       "    .dataframe tbody tr th {\n",
       "        vertical-align: top;\n",
       "    }\n",
       "\n",
       "    .dataframe thead th {\n",
       "        text-align: right;\n",
       "    }\n",
       "</style>\n",
       "<table border=\"1\" class=\"dataframe\">\n",
       "  <thead>\n",
       "    <tr style=\"text-align: right;\">\n",
       "      <th></th>\n",
       "      <th>ab_test</th>\n",
       "      <th>group</th>\n",
       "      <th>event_dt</th>\n",
       "      <th>event_name</th>\n",
       "      <th>num_events</th>\n",
       "    </tr>\n",
       "  </thead>\n",
       "  <tbody>\n",
       "    <tr>\n",
       "      <th>103</th>\n",
       "      <td>interface_eu_test</td>\n",
       "      <td>A</td>\n",
       "      <td>2020-12-22</td>\n",
       "      <td>product_cart</td>\n",
       "      <td>336.0</td>\n",
       "    </tr>\n",
       "    <tr>\n",
       "      <th>167</th>\n",
       "      <td>interface_eu_test</td>\n",
       "      <td>B</td>\n",
       "      <td>2020-12-20</td>\n",
       "      <td>purchase</td>\n",
       "      <td>310.0</td>\n",
       "    </tr>\n",
       "    <tr>\n",
       "      <th>75</th>\n",
       "      <td>interface_eu_test</td>\n",
       "      <td>B</td>\n",
       "      <td>2020-12-16</td>\n",
       "      <td>product_page</td>\n",
       "      <td>476.0</td>\n",
       "    </tr>\n",
       "    <tr>\n",
       "      <th>92</th>\n",
       "      <td>interface_eu_test</td>\n",
       "      <td>A</td>\n",
       "      <td>2020-12-11</td>\n",
       "      <td>product_cart</td>\n",
       "      <td>180.0</td>\n",
       "    </tr>\n",
       "    <tr>\n",
       "      <th>138</th>\n",
       "      <td>interface_eu_test</td>\n",
       "      <td>A</td>\n",
       "      <td>2020-12-13</td>\n",
       "      <td>purchase</td>\n",
       "      <td>301.0</td>\n",
       "    </tr>\n",
       "  </tbody>\n",
       "</table>\n",
       "</div>"
      ],
      "text/plain": [
       "               ab_test group   event_dt    event_name  num_events\n",
       "103  interface_eu_test     A 2020-12-22  product_cart       336.0\n",
       "167  interface_eu_test     B 2020-12-20      purchase       310.0\n",
       "75   interface_eu_test     B 2020-12-16  product_page       476.0\n",
       "92   interface_eu_test     A 2020-12-11  product_cart       180.0\n",
       "138  interface_eu_test     A 2020-12-13      purchase       301.0"
      ]
     },
     "execution_count": 87,
     "metadata": {},
     "output_type": "execute_result"
    }
   ],
   "source": [
    "# Usamos melt para transformar la tabla a formato largo, seleccionando los datos de \n",
    "#'interface_eu_test' y organizando los eventos y conversiones en columnas separadas.\n",
    "funnel_long = funnel_with_date_pivot[funnel_with_date_pivot['ab_test'] == 'interface_eu_test'].melt(id_vars=['ab_test', 'group', 'event_dt'], value_vars=event_order,\n",
    "                                          var_name='event_name', value_name='num_events')\n",
    "funnel_long.sample(5)"
   ]
  },
  {
   "cell_type": "code",
   "execution_count": 88,
   "id": "b9f783a5-eeb0-4c20-abf7-602a5494f35c",
   "metadata": {
    "scrolled": true
   },
   "outputs": [
    {
     "name": "stderr",
     "output_type": "stream",
     "text": [
      "C:\\Users\\rachel\\AppData\\Local\\Temp\\ipykernel_1612\\173603493.py:4: FutureWarning: \n",
      "\n",
      "The `ci` parameter is deprecated. Use `errorbar=None` for the same effect.\n",
      "\n",
      "  sns.barplot(data=funnel_long, x='event_dt', y='num_events', hue='event_name', ci=None, palette='Set2')\n"
     ]
    },
    {
     "data": {
      "image/png": "[encoded data removed]",
      "text/plain": [
       "<Figure size 1400x800 with 1 Axes>"
      ]
     },
     "metadata": {},
     "output_type": "display_data"
    }
   ],
   "source": [
    "# Graficamos conversiones por Evento y Fecha del experimento interface_eu_test\n",
    "plt.figure(figsize=(14, 8))\n",
    "\n",
    "sns.barplot(data=funnel_long, x='event_dt', y='num_events', hue='event_name', ci=None, palette='Set2')\n",
    "\n",
    "# Añadimos etiquetas y título\n",
    "plt.title('Distribución de eventos por Fecha del experiento interface_eu_test', \n",
    "           fontsize=16)\n",
    "plt.xlabel('Fecha del Evento', fontsize=14)\n",
    "plt.ylabel('Cantidad de eventos', fontsize=14)\n",
    "plt.xticks(rotation=90)  # Rotar las fechas para mayor claridad\n",
    "plt.legend(title='Evento', loc='upper right')\n",
    "plt.show()"
   ]
  },
  {
   "cell_type": "markdown",
   "id": "5f575f62-b3b6-425e-bd93-f0fdf1f88154",
   "metadata": {
    "scrolled": true
   },
   "source": [
    "<div style=\"background-color: lightblue; padding: 10px; border-radius: 5px;\">\n",
    "En esta gráfica el incremento es un poco más sostenido y la caída en los eventos es menos drástica en comparación con el experimento anterior. Lo que sugiere un comportamiento más leal de los participantes de este experimento."
   ]
  },
  {
   "cell_type": "markdown",
   "id": "8af69922-16b0-4ee1-bb3d-6d3ce23931bf",
   "metadata": {},
   "source": [
    "####  Prueba z para comprobar la diferencia estadística entre las proporciones"
   ]
  },
  {
   "cell_type": "markdown",
   "id": "757d1a1e-e421-4de3-8553-b8c51d13d99a",
   "metadata": {
    "scrolled": true
   },
   "source": [
    "Ahora realizaremos la prueba Z para analizar las diferencias entre los eventos de cada grupo en el experimento recommender_system_test."
   ]
  },
  {
   "cell_type": "code",
   "execution_count": 92,
   "id": "ae41350c-d9dd-455a-9ced-c85901c6e51b",
   "metadata": {},
   "outputs": [],
   "source": [
    "# Función para realizar la prueba Z\n",
    "def perform_ztest(control_evento_anterior, control_evento_posterior, prueba_evento_anterior, prueba_evento_posterior):\n",
    "    posteriores = np.array([control_evento_posterior, prueba_evento_posterior])\n",
    "    anteriores = np.array([control_evento_anterior, prueba_evento_anterior])\n",
    "    z_stat, p_value = proportions_ztest(posteriores, anteriores)\n",
    "    return z_stat, p_value"
   ]
  },
  {
   "cell_type": "code",
   "execution_count": 93,
   "id": "075290b0-7f3c-40ff-ae07-fe85dd4e9fc5",
   "metadata": {},
   "outputs": [
    {
     "name": "stdout",
     "output_type": "stream",
     "text": [
      "Comparando 'login' a 'product_page':\n",
      "Prueba Z para 'login' a 'product_page' (recommender_system_test): Z = 9.10, p-valor = 0.0000\n",
      "La diferencia es estadísticamente significativa.\n",
      "\n",
      "Comparando 'product_page' a 'product_cart':\n",
      "Prueba Z para 'product_page' a 'product_cart' (recommender_system_test): Z = -2.74, p-valor = 0.0061\n",
      "La diferencia es estadísticamente significativa.\n",
      "\n",
      "Comparando 'product_cart' a 'purchase':\n",
      "Prueba Z para 'product_cart' a 'purchase' (recommender_system_test): Z = nan, p-valor = nan\n",
      "La diferencia no es estadísticamente significativa.\n",
      "\n"
     ]
    },
    {
     "name": "stderr",
     "output_type": "stream",
     "text": [
      "C:\\Users\\rachel\\anaconda3\\Lib\\site-packages\\statsmodels\\stats\\proportion.py:1024: RuntimeWarning: invalid value encountered in sqrt\n",
      "  std_diff = np.sqrt(var_)\n"
     ]
    }
   ],
   "source": [
    "# Eventos a comparar\n",
    "event_to_compare = [\n",
    "    ('login', 'product_page'),\n",
    "    ('product_page', 'product_cart'),\n",
    "    ('product_cart', 'purchase')\n",
    "]\n",
    "\n",
    "# Para cada par de eventos, realizamos la prueba Z\n",
    "for event_from, event_to in event_to_compare:\n",
    "    print(f\"Comparando '{event_from}' a '{event_to}':\")\n",
    "    \n",
    "    # Para grupo A\n",
    "    control_evento_posterior = funnel_pivot.loc[\n",
    "        (funnel_pivot['ab_test'] == 'recommender_system_test') & \n",
    "        (funnel_pivot['group'] == 'A'), event_to].sum()\n",
    "    \n",
    "    control_evento_anterior = funnel_pivot.loc[\n",
    "        (funnel_pivot['ab_test'] == 'recommender_system_test') & \n",
    "        (funnel_pivot['group'] == 'A'), event_from].sum()\n",
    "\n",
    "    # Para grupo B\n",
    "    prueba_evento_posterior = funnel_pivot.loc[\n",
    "        (funnel_pivot['ab_test'] == 'recommender_system_test') & \n",
    "        (funnel_pivot['group'] == 'B'), event_to].sum()\n",
    "    prueba_evento_anterior = funnel_pivot.loc[\n",
    "        (funnel_pivot['ab_test'] == 'recommender_system_test') & \n",
    "        (funnel_pivot['group'] == 'B'), event_from].sum()\n",
    "\n",
    "    # Realizamos la prueba Z\n",
    "    z_stat, p_value = perform_ztest(control_evento_anterior, control_evento_posterior, prueba_evento_anterior, prueba_evento_posterior)\n",
    "\n",
    "    # Imprimimos los resultados\n",
    "    print(f\"Prueba Z para '{event_from}' a '{event_to}' (recommender_system_test): Z = {z_stat:.2f}, p-valor = {p_value:.4f}\")\n",
    "\n",
    "    # Interpretación\n",
    "    if p_value < 0.05:\n",
    "        print(\"La diferencia es estadísticamente significativa.\\n\")\n",
    "    else:\n",
    "        print(\"La diferencia no es estadísticamente significativa.\\n\")\n"
   ]
  },
  {
   "cell_type": "markdown",
   "id": "962a0dd8-911a-4705-9711-1dc669873f81",
   "metadata": {},
   "source": [
    "Como vemos en la celda anterior, para el caso de 'product_cart' a 'purchase' no podemos calcular la prueba Z, pues obtenemos un denominador no definido.\n",
    "\n",
    "Consideremos la siguiente definición:\n",
    "\n",
    "$$\n",
    "Z = \\frac{{p_1 - p_2}}{{\\sqrt{p(1 - p) \\left( \\frac{1}{n_1} + \\frac{1}{n_2} \\right)}}}\n",
    "$$\n",
    "\n",
    "Donde:\n",
    "- \\( p_1 \\) y \\( p_2 \\) son las proporciones observadas de los dos grupos.\n",
    "- \\( p \\) es la proporción combinada de los dos grupos (calculada como \\( p = \\frac{X_1 + X_2}{n_1 + n_2} \\)).\n",
    "- \\( n_1 \\) y \\( n_2 \\) son los tamaños de las muestras de los dos grupos.\n",
    "\n",
    "En el caso particular que estamos analizando, P es mayor que 1, es decir la conversión general de ambos grupos es mayor a 100% debido a que la conversión del grupo A también lo es y no es posible usar la prueba Z.\n",
    "\n",
    "Para solventar este inconveniente decidimos topar la conversión del grupo A a 100% obteniendo los resultados siguientes:"
   ]
  },
  {
   "cell_type": "code",
   "execution_count": 172,
   "id": "76f4fa09-77ad-4f5a-a9db-d4146169bec8",
   "metadata": {},
   "outputs": [
    {
     "name": "stdout",
     "output_type": "stream",
     "text": [
      "Prueba Z para  'product_cart' a 'purchase' (recommender_system_test): Z = 11.62, p-valor = 0.0000\n",
      "La diferencia es estadísticamente significativa.\n",
      "\n"
     ]
    }
   ],
   "source": [
    "z_stat, p_value = proportions_ztest([2184.0, 476.0] , [2184.0, 507.0])\n",
    "\n",
    "# Imprimimos los resultados\n",
    "print(f\"Prueba Z para  'product_cart' a 'purchase' (recommender_system_test): Z = {z_stat:.2f}, p-valor = {p_value:.4f}\")\n",
    "\n",
    "\n",
    "# Interpretación\n",
    "\n",
    "if p_value < 0.05:\n",
    "    print(\"La diferencia es estadísticamente significativa.\\n\")\n",
    "else:\n",
    "    print(\"La diferencia no es estadísticamente significativa.\\n\")\n"
   ]
  },
  {
   "cell_type": "markdown",
   "id": "e42a1e93-7e3f-4835-8f0f-1d14ad05328d",
   "metadata": {},
   "source": [
    "<div style=\"background-color: lightblue; padding: 10px; border-radius: 5px;\">\n",
    "En el experimento recommender_system_test, las diferencias entre todos los eventos es significativa. Siendo que 'login' a 'product_page' y 'product_cart' a 'purchase' le va mejor al grupo de control y en el caso de 'product_page' a 'product_cart' le va mejor en el grupo de prueba. Lo cual suguiere que nuevo sistema de recomendación es efectivo para hacer que los usuarios agreguen al carrito, pero no necesariamente para que los compren."
   ]
  },
  {
   "cell_type": "markdown",
   "id": "5648c944-2790-4d45-9623-c66e83f485aa",
   "metadata": {},
   "source": [
    "#### **Conclusión General (Análisis de ambos experimentos)**\n",
    "\n",
    "##### Calidad de los datos:\n",
    "- Ambos experimentos contaban con datos bien estructurados, con nombres de columnas claros y en minúsculas, lo que facilitó su manipulación y análisis.\n",
    "  \n",
    "- Se corrigieron los formatos de fecha y se revisó la inexistencia de valores nulos y duplicados, asegurando la integridad de los datos.\n",
    "  \n",
    "- Se identificaron y eliminaron usuarios que participaron en ambos grupos (A y B) y experimentos, para minimizar posibles sesgos.  \n",
    "\n",
    "##### Distribución de eventos y usuarios:\n",
    "- En el experimento **interface_eu_test**, la distribución de eventos por usuario fue similar entre los grupos A y B, con medias y frecuencias comparables.\n",
    "  \n",
    "- En el experimento **recommender_system_test**, se observó una distribución desigual, con el grupo A mostrando una mayor frecuencia de eventos por usuario en comparación con el grupo B.  \n",
    "\n",
    "##### Conversión en el embudo:\n",
    "- En **interface_eu_test**, el grupo A mostró una conversión más alta en todas las etapas del embudo, excepto en la etapa de `product_page` a `product_cart`, donde el grupo B tuvo un ligero aumento.\n",
    "  \n",
    "- En **recommender_system_test**, el grupo A mostró una conversión más alta en las etapas de `login` a `product_page` y de `product_cart` a `purchase`. Sin embargo, el grupo B tuvo una mayor conversión solo en la etapa de `product_page` a `product_cart`, lo que sugiere que el nuevo sistema de recomendaciones influyó positivamente en esta etapa.  \n",
    "\n",
    "##### Comportamiento temporal:\n",
    "- En ambos experimentos, el número de eventos alcanzó su punto máximo el 21 de diciembre, coincidiendo con el último día de registro, y luego disminuyó drásticamente.\n",
    "  \n",
    "- En **recommender_system_test**, la caída en los eventos fue menos pronunciada en el grupo B, lo que sugiere un comportamiento más leal por parte de los usuarios expuestos al nuevo sistema de recomendaciones.  "
   ]
  },
  {
   "cell_type": "markdown",
   "id": "d8c623e4-8bf1-4521-bfdf-7586e5f38695",
   "metadata": {},
   "source": [
    "#### ¿Qué opinamos sobre los resultados de la prueba A/B con respecto a la prueba recommender_system_test?"
   ]
  },
  {
   "cell_type": "markdown",
   "id": "1b576cc4-21f4-4340-9e6f-110553ca3419",
   "metadata": {},
   "source": [
    "El nuevo sistema de recomendaciones (grupo B) mostró un impacto positivo en la etapa de `product_page` a `product_cart`, lo que sugiere que las recomendaciones mejoradas pueden motivar a los usuarios a agregar más productos al carrito. Sin embargo, este efecto no se tradujo en un aumento significativo en las compras (`purchase`), lo que indica que el sistema de recomendaciones podría necesitar ajustes para influir en la decisión final de compra.\r\n",
    "\r\n",
    "Además, la distribución desigual de usuarios y eventos entre los grupos A y B podría haber afectado los resultados. Sería recomendable realizar una nueva prueba con una asignación más equilibrada de usuarios y un período de prueba más largo para obtener conclusiones más robustas.\r\n",
    "\r\n",
    "En resumen, aunque el nuevo sistema de recomendaciones mostró potencialuna tas eapas del embudo, **no cumplió con el objetivo** de aumentar la conversión en un 10% en todas las etapas. Por lo tanto, **no se recomienda** implementar el sistema en su estado actual, pero sí se sugiere realizar mejoras y pruebas adicionales para optimizar su efectividad."
   ]
  },
  {
   "cell_type": "code",
   "execution_count": null,
   "id": "b9025e0f-23d8-4cc1-82ba-2b91047150fc",
   "metadata": {},
   "outputs": [],
   "source": []
  }
 ],
 "metadata": {
  "kernelspec": {
   "display_name": "Python 3 (ipykernel)",
   "language": "python",
   "name": "python3"
  },
  "language_info": {
   "codemirror_mode": {
    "name": "ipython",
    "version": 3
   },
   "file_extension": ".py",
   "mimetype": "text/x-python",
   "name": "python",
   "nbconvert_exporter": "python",
   "pygments_lexer": "ipython3",
   "version": "3.12.4"
  }
 },
 "nbformat": 4,
 "nbformat_minor": 5
}
